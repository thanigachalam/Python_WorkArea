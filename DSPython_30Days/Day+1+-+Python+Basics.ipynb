{
 "cells": [
  {
   "cell_type": "code",
   "execution_count": null,
   "metadata": {
    "collapsed": true
   },
   "outputs": [],
   "source": [
    "#List\n",
    "\n",
    "#List is a collection which is ordered and changeable. allow duplicate members.\n",
    "#values can belog to diffent datatypes\n",
    "#list can contains another list in it [[1,2,3],['a','b','c']]\n",
    "#list is mutable (means editable:- value can be edited)"
   ]
  },
  {
   "cell_type": "code",
   "execution_count": 7,
   "metadata": {},
   "outputs": [
    {
     "name": "stdout",
     "output_type": "stream",
     "text": [
      "['applie', 'banana', 'cherry', 'mango']\n"
     ]
    }
   ],
   "source": [
    "lst = [\"applie\", \"banana\", \"cherry\",'mango']\n",
    "print(lst)"
   ]
  },
  {
   "cell_type": "code",
   "execution_count": 15,
   "metadata": {},
   "outputs": [
    {
     "data": {
      "text/plain": [
       "('sunday', 'monday', 'tuesday', 'wednesday', 'thursday', 'friday', 'saturday')"
      ]
     },
     "execution_count": 15,
     "metadata": {},
     "output_type": "execute_result"
    }
   ],
   "source": [
    "days=('sunday','monday','tuesday','wednesday','thursday','friday','saturday')\n",
    "\n",
    "days"
   ]
  },
  {
   "cell_type": "code",
   "execution_count": 16,
   "metadata": {
    "collapsed": true
   },
   "outputs": [],
   "source": [
    "daylist = list(days)"
   ]
  },
  {
   "cell_type": "code",
   "execution_count": 17,
   "metadata": {},
   "outputs": [
    {
     "data": {
      "text/plain": [
       "['sunday', 'monday', 'tuesday', 'wednesday', 'thursday', 'friday', 'saturday']"
      ]
     },
     "execution_count": 17,
     "metadata": {},
     "output_type": "execute_result"
    }
   ],
   "source": [
    "daylist"
   ]
  },
  {
   "cell_type": "code",
   "execution_count": 23,
   "metadata": {},
   "outputs": [
    {
     "data": {
      "text/plain": [
       "['friday', 'monday', 'saturday', 'sunday', 'thursday', 'tuesday', 'wednesday']"
      ]
     },
     "execution_count": 23,
     "metadata": {},
     "output_type": "execute_result"
    }
   ],
   "source": [
    "#sort asc\n",
    "daylist.sort()\n",
    "daylist"
   ]
  },
  {
   "cell_type": "code",
   "execution_count": 24,
   "metadata": {},
   "outputs": [
    {
     "data": {
      "text/plain": [
       "['wednesday', 'tuesday', 'thursday', 'sunday', 'saturday', 'monday', 'friday']"
      ]
     },
     "execution_count": 24,
     "metadata": {},
     "output_type": "execute_result"
    }
   ],
   "source": [
    "#sort desc\n",
    "daylist.reverse()\n",
    "daylist"
   ]
  },
  {
   "cell_type": "code",
   "execution_count": null,
   "metadata": {
    "collapsed": true
   },
   "outputs": [],
   "source": [
    "#Tuple\n",
    "\n",
    "# A tuple is collection which is ordered and unchangeable. in python tuples are written with round brackets."
   ]
  },
  {
   "cell_type": "code",
   "execution_count": 2,
   "metadata": {},
   "outputs": [
    {
     "name": "stdout",
     "output_type": "stream",
     "text": [
      "('applie', 'banana', 'cherry')\n"
     ]
    }
   ],
   "source": [
    "tup = (\"applie\", \"banana\", \"cherry\")\n",
    "print(tup)"
   ]
  },
  {
   "cell_type": "code",
   "execution_count": 2,
   "metadata": {},
   "outputs": [
    {
     "data": {
      "text/plain": [
       "('sunday', 'monday', 'tuesday', 'wednesday', 'thursday', 'friday', 'saturday')"
      ]
     },
     "execution_count": 2,
     "metadata": {},
     "output_type": "execute_result"
    }
   ],
   "source": [
    "days=('sunday','monday','tuesday','wednesday','thursday','friday','saturday')\n",
    "\n",
    "days"
   ]
  },
  {
   "cell_type": "code",
   "execution_count": 3,
   "metadata": {},
   "outputs": [
    {
     "ename": "TypeError",
     "evalue": "'tuple' object does not support item assignment",
     "output_type": "error",
     "traceback": [
      "\u001b[1;31m---------------------------------------------------------------------------\u001b[0m",
      "\u001b[1;31mTypeError\u001b[0m                                 Traceback (most recent call last)",
      "\u001b[1;32m<ipython-input-3-0cb589b77a22>\u001b[0m in \u001b[0;36m<module>\u001b[1;34m()\u001b[0m\n\u001b[1;32m----> 1\u001b[1;33m \u001b[0mdays\u001b[0m\u001b[1;33m[\u001b[0m\u001b[1;36m0\u001b[0m\u001b[1;33m]\u001b[0m\u001b[1;33m=\u001b[0m\u001b[1;34m'Funday'\u001b[0m\u001b[1;33m\u001b[0m\u001b[0m\n\u001b[0m",
      "\u001b[1;31mTypeError\u001b[0m: 'tuple' object does not support item assignment"
     ]
    }
   ],
   "source": [
    "days[0]='Funday'"
   ]
  },
  {
   "cell_type": "code",
   "execution_count": 4,
   "metadata": {},
   "outputs": [
    {
     "name": "stdout",
     "output_type": "stream",
     "text": [
      "sunday\n",
      "monday\n",
      "tuesday\n",
      "wednesday\n",
      "thursday\n",
      "friday\n",
      "saturday\n"
     ]
    }
   ],
   "source": [
    "#for loop in tuples\n",
    "\n",
    "for d in days:\n",
    "    print(d)"
   ]
  },
  {
   "cell_type": "code",
   "execution_count": 12,
   "metadata": {
    "collapsed": true
   },
   "outputs": [],
   "source": [
    "items=(['a','b','c'])\n",
    "#items=(['a','b','c'],['ba','ca'])"
   ]
  },
  {
   "cell_type": "code",
   "execution_count": 13,
   "metadata": {},
   "outputs": [
    {
     "data": {
      "text/plain": [
       "['a', 'b', 'c']"
      ]
     },
     "execution_count": 13,
     "metadata": {},
     "output_type": "execute_result"
    }
   ],
   "source": [
    "items"
   ]
  },
  {
   "cell_type": "code",
   "execution_count": 14,
   "metadata": {},
   "outputs": [],
   "source": [
    "items[0]=['aa']"
   ]
  },
  {
   "cell_type": "code",
   "execution_count": 8,
   "metadata": {},
   "outputs": [
    {
     "data": {
      "text/plain": [
       "[['aa'], 'b', 'c']"
      ]
     },
     "execution_count": 8,
     "metadata": {},
     "output_type": "execute_result"
    }
   ],
   "source": [
    "items"
   ]
  },
  {
   "cell_type": "code",
   "execution_count": null,
   "metadata": {
    "collapsed": true
   },
   "outputs": [],
   "source": [
    "#Dictionary\n",
    "\n",
    "#A dictionary is a collection which is unordered, changeable and indexed. in python\n",
    "#dictionaries are written with curl brackets, and they have keys and values.\n",
    "\n",
    "#is used to manage keys and values"
   ]
  },
  {
   "cell_type": "code",
   "execution_count": 6,
   "metadata": {},
   "outputs": [
    {
     "name": "stdout",
     "output_type": "stream",
     "text": [
      "{'id': 123, 'name': 'thani', 'class': 'MSC IT'}\n"
     ]
    }
   ],
   "source": [
    "mydict = {\"id\": 123,\n",
    "         \"name\": \"thani\",\n",
    "         \"class\": \"MSC IT\"\n",
    "         }\n",
    "print(mydict)"
   ]
  },
  {
   "cell_type": "code",
   "execution_count": 27,
   "metadata": {},
   "outputs": [
    {
     "data": {
      "text/plain": [
       "{'en': 'english', 'fr': 'french', 'gn': 'german', 'hn': 'hindi'}"
      ]
     },
     "execution_count": 27,
     "metadata": {},
     "output_type": "execute_result"
    }
   ],
   "source": [
    "#dictionary\n",
    "\n",
    "lang={\"en\": \"english\",\"fr\": \"french\", \"gn\": \"german\", \"hn\": \"hindi\"}\n",
    "lang"
   ]
  },
  {
   "cell_type": "code",
   "execution_count": 30,
   "metadata": {},
   "outputs": [
    {
     "name": "stdout",
     "output_type": "stream",
     "text": [
      "en\n",
      "fr\n",
      "gn\n",
      "hn\n"
     ]
    }
   ],
   "source": [
    "#loop dict\n",
    "for items in lang:\n",
    "    print(items)\n"
   ]
  },
  {
   "cell_type": "code",
   "execution_count": 32,
   "metadata": {},
   "outputs": [
    {
     "name": "stdout",
     "output_type": "stream",
     "text": [
      "english\n"
     ]
    }
   ],
   "source": [
    "#one more expression\n",
    "print(lang[\"en\"])"
   ]
  },
  {
   "cell_type": "code",
   "execution_count": 37,
   "metadata": {},
   "outputs": [
    {
     "name": "stdout",
     "output_type": "stream",
     "text": [
      "en   english\n",
      "fr   french\n",
      "gn   german\n",
      "hn   hindi\n"
     ]
    }
   ],
   "source": [
    "for key in lang:\n",
    "    print(key,\" \",lang[key])"
   ]
  },
  {
   "cell_type": "code",
   "execution_count": 38,
   "metadata": {},
   "outputs": [
    {
     "name": "stdout",
     "output_type": "stream",
     "text": [
      "en   english\n",
      "fr   french\n",
      "gn   german\n",
      "hn   hindi\n"
     ]
    }
   ],
   "source": [
    "#standard way of retriving the keys and values both\n",
    "\n",
    "for k, v in lang.items(): #items funciton return key and values\n",
    "    print(k,\" \",v)\n",
    "    "
   ]
  },
  {
   "cell_type": "code",
   "execution_count": null,
   "metadata": {
    "collapsed": true
   },
   "outputs": [],
   "source": [
    "#add the values\n"
   ]
  },
  {
   "cell_type": "code",
   "execution_count": null,
   "metadata": {
    "collapsed": true
   },
   "outputs": [],
   "source": [
    "#loops"
   ]
  },
  {
   "cell_type": "code",
   "execution_count": 9,
   "metadata": {},
   "outputs": [
    {
     "name": "stdout",
     "output_type": "stream",
     "text": [
      "0\n",
      "1\n",
      "2\n",
      "3\n",
      "4\n",
      "5\n",
      "6\n",
      "7\n",
      "8\n",
      "9\n"
     ]
    }
   ],
   "source": [
    "range(10) #range generates number 0 to 9\n",
    "#\n",
    "#range is generator function\n",
    "\n",
    "for x in range(10):\n",
    "    print(x)\n",
    "\n",
    "\n"
   ]
  },
  {
   "cell_type": "code",
   "execution_count": 10,
   "metadata": {},
   "outputs": [
    {
     "name": "stdout",
     "output_type": "stream",
     "text": [
      "5\n",
      "6\n",
      "7\n",
      "8\n",
      "9\n"
     ]
    }
   ],
   "source": [
    "for x in range(5,10):\n",
    "    print(x)"
   ]
  },
  {
   "cell_type": "code",
   "execution_count": 11,
   "metadata": {},
   "outputs": [
    {
     "name": "stdout",
     "output_type": "stream",
     "text": [
      "Meter is  1\n",
      "Meter is  2\n",
      "Meter is  3\n",
      "Meter is  4\n",
      "Meter is  5\n",
      "Meter is  6\n",
      "Meter is  7\n",
      "Meter is  8\n",
      "Meter is  9\n",
      "Meter is  10\n",
      "while loop finished....\n"
     ]
    }
   ],
   "source": [
    "#while loop\n",
    "\n",
    "intval=1\n",
    "while(intval<=10):\n",
    "    print(\"Meter is \", intval)\n",
    "    intval+=1\n",
    "\n",
    "print(\"while loop finished....\")\n",
    "    "
   ]
  },
  {
   "cell_type": "code",
   "execution_count": 13,
   "metadata": {},
   "outputs": [
    {
     "name": "stdout",
     "output_type": "stream",
     "text": [
      "Enter a number\n",
      "1\n",
      "Enter a number\n",
      "2\n",
      "Enter a number\n",
      "3\n",
      "Total is 6\n"
     ]
    }
   ],
   "source": [
    "#Accept 3 numbers and add them all\n",
    "\n",
    "total=0\n",
    "\n",
    "for count in range(3):\n",
    "    num = int (input(\"Enter a number\\n\")) #int\n",
    "    total= total+num\n",
    "\n",
    "print(\"Total is\", total)\n",
    "    "
   ]
  },
  {
   "cell_type": "code",
   "execution_count": 15,
   "metadata": {},
   "outputs": [
    {
     "name": "stdout",
     "output_type": "stream",
     "text": [
      "['Appeal', 'Mango', 'Banana', 'Cherry']\n"
     ]
    }
   ],
   "source": [
    "fruits = ['Appeal','Mango','Banana','Cherry']\n",
    "print(fruits)\n"
   ]
  },
  {
   "cell_type": "code",
   "execution_count": 16,
   "metadata": {},
   "outputs": [
    {
     "name": "stdout",
     "output_type": "stream",
     "text": [
      "Appeal\n",
      "Mango\n",
      "Banana\n",
      "Cherry\n"
     ]
    }
   ],
   "source": [
    "#printing one by one\n",
    "\n",
    "for item in fruits:\n",
    "    print(item)"
   ]
  },
  {
   "cell_type": "code",
   "execution_count": 18,
   "metadata": {},
   "outputs": [
    {
     "name": "stdout",
     "output_type": "stream",
     "text": [
      "['Appeal', 'Peach', 'Banana', 'Cherry']\n"
     ]
    }
   ],
   "source": [
    "#adding values to the list\n",
    "\n",
    "fruits[1]=\"Peach\"\n",
    "\n",
    "print(fruits)"
   ]
  },
  {
   "cell_type": "code",
   "execution_count": 25,
   "metadata": {},
   "outputs": [
    {
     "name": "stdout",
     "output_type": "stream",
     "text": [
      "['Red', 'Orange', 'Blue']\n"
     ]
    }
   ],
   "source": [
    "#creating blank list\n",
    "colors = []\n",
    "colors.append('Red')\n",
    "colors.append('Orange')\n",
    "colors.append('Blue')\n",
    "\n",
    "print(colors)"
   ]
  },
  {
   "cell_type": "code",
   "execution_count": 26,
   "metadata": {},
   "outputs": [
    {
     "data": {
      "text/plain": [
       "['Red', 'Orange', 'Blue', 'cyan', 'teal', 'pink', 'maroon']"
      ]
     },
     "execution_count": 26,
     "metadata": {},
     "output_type": "execute_result"
    }
   ],
   "source": [
    "#extend\n",
    "\n",
    "morecolors=['cyan','teal','pink','maroon']\n",
    "\n",
    "colors.extend(morecolors) \n",
    "#extend function is used  to add list in a list\n",
    "\n",
    "colors\n"
   ]
  },
  {
   "cell_type": "code",
   "execution_count": 30,
   "metadata": {},
   "outputs": [
    {
     "data": {
      "text/plain": [
       "['Red', 'black', 'Orange', 'Blue', 'cyan', 'teal', 'pink', 'maroon']"
      ]
     },
     "execution_count": 30,
     "metadata": {},
     "output_type": "execute_result"
    }
   ],
   "source": [
    "#insert add a value at a given index\n",
    "\n",
    "colors.insert(1,'black')\n",
    "\n",
    "colors"
   ]
  },
  {
   "cell_type": "code",
   "execution_count": 31,
   "metadata": {
    "collapsed": true
   },
   "outputs": [],
   "source": [
    "colors.remove('black')\n",
    "\n"
   ]
  },
  {
   "cell_type": "code",
   "execution_count": 32,
   "metadata": {},
   "outputs": [
    {
     "data": {
      "text/plain": [
       "['Red', 'Orange', 'Blue', 'cyan', 'teal', 'pink', 'maroon']"
      ]
     },
     "execution_count": 32,
     "metadata": {},
     "output_type": "execute_result"
    }
   ],
   "source": [
    "colors"
   ]
  },
  {
   "cell_type": "code",
   "execution_count": 33,
   "metadata": {},
   "outputs": [
    {
     "data": {
      "text/plain": [
       "'maroon'"
      ]
     },
     "execution_count": 33,
     "metadata": {},
     "output_type": "execute_result"
    }
   ],
   "source": [
    "colors.pop() #removes first accruncs "
   ]
  },
  {
   "cell_type": "code",
   "execution_count": 35,
   "metadata": {},
   "outputs": [
    {
     "data": {
      "text/plain": [
       "6"
      ]
     },
     "execution_count": 35,
     "metadata": {},
     "output_type": "execute_result"
    }
   ],
   "source": [
    "len(colors)\n"
   ]
  },
  {
   "cell_type": "code",
   "execution_count": 36,
   "metadata": {
    "collapsed": true
   },
   "outputs": [],
   "source": [
    "del colors[0]"
   ]
  },
  {
   "cell_type": "code",
   "execution_count": 37,
   "metadata": {},
   "outputs": [
    {
     "data": {
      "text/plain": [
       "['Orange', 'Blue', 'cyan', 'teal', 'pink']"
      ]
     },
     "execution_count": 37,
     "metadata": {},
     "output_type": "execute_result"
    }
   ],
   "source": [
    "colors"
   ]
  },
  {
   "cell_type": "code",
   "execution_count": 39,
   "metadata": {},
   "outputs": [
    {
     "name": "stdout",
     "output_type": "stream",
     "text": [
      "word found orange\n"
     ]
    }
   ],
   "source": [
    "# in operator\n",
    "\n",
    "if \"Orange\" in colors:\n",
    "    print(\"word found orange\")\n",
    "else:\n",
    "    print(\"Not in list\")"
   ]
  },
  {
   "cell_type": "code",
   "execution_count": 41,
   "metadata": {},
   "outputs": [
    {
     "data": {
      "text/plain": [
       "2"
      ]
     },
     "execution_count": 41,
     "metadata": {},
     "output_type": "execute_result"
    }
   ],
   "source": [
    "#count number of values\n",
    "fruits = ['apple','apple','mango']\n",
    "\n",
    "fruits.count('apple')"
   ]
  },
  {
   "cell_type": "code",
   "execution_count": 44,
   "metadata": {},
   "outputs": [
    {
     "name": "stdout",
     "output_type": "stream",
     "text": [
      "Enter your choise\n",
      "a\n",
      "Enter your choise\n",
      "b\n",
      "Enter your choise\n",
      "c\n",
      "Enter your choise\n",
      "d\n",
      "Enter your choise\n",
      "e\n",
      "user has added 5 items\n",
      "\n",
      " following are the products\n",
      "a\n",
      "b\n",
      "c\n",
      "d\n",
      "e\n"
     ]
    }
   ],
   "source": [
    "#Dynamic addition\n",
    "\n",
    "#Shopping list\n",
    "cart=[]\n",
    "\n",
    "for x in range(5):\n",
    "    product= input(\"Enter your choise\\n\")\n",
    "    cart.append(product) #this is the moster line\n",
    "\n",
    "print (\"user has added\",len(cart),\"items\")\n",
    "print('\\n following are the products')\n",
    "\n",
    "for items in cart:\n",
    "    print(items)"
   ]
  },
  {
   "cell_type": "code",
   "execution_count": 45,
   "metadata": {
    "scrolled": true
   },
   "outputs": [
    {
     "name": "stdout",
     "output_type": "stream",
     "text": [
      "i got ['tv', 'refri', 'chair']\n",
      "tv\n",
      "refri\n",
      "chair\n",
      "i got ['geyser', 'table', 'lamp']\n",
      "geyser\n",
      "table\n",
      "lamp\n"
     ]
    }
   ],
   "source": [
    "#list in a list\n",
    "\n",
    "household_items= [['tv','refri','chair'],['geyser','table','lamp']]\n",
    "\n",
    "for list in household_items:\n",
    "    print(\"i got\", list)\n",
    "    for item in list:\n",
    "        print(item)"
   ]
  },
  {
   "cell_type": "code",
   "execution_count": 46,
   "metadata": {},
   "outputs": [
    {
     "data": {
      "text/plain": [
       "'ello world'"
      ]
     },
     "execution_count": 46,
     "metadata": {},
     "output_type": "execute_result"
    }
   ],
   "source": [
    "#slicing\n",
    "\n",
    "msg= \"hello world\"\n",
    "\n",
    "msg[:3]\n",
    "msg[1:]"
   ]
  }
 ],
 "metadata": {
  "kernelspec": {
   "display_name": "Python 3",
   "language": "python",
   "name": "python3"
  },
  "language_info": {
   "codemirror_mode": {
    "name": "ipython",
    "version": 3
   },
   "file_extension": ".py",
   "mimetype": "text/x-python",
   "name": "python",
   "nbconvert_exporter": "python",
   "pygments_lexer": "ipython3",
   "version": "3.6.1"
  }
 },
 "nbformat": 4,
 "nbformat_minor": 2
}

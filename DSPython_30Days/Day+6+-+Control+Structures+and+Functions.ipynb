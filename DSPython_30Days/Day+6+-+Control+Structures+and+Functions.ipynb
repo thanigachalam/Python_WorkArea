{
 "cells": [
  {
   "cell_type": "raw",
   "metadata": {
    "collapsed": true
   },
   "source": [
    "Control structures\n",
    "    If-elif-else\n",
    "    For loop\n",
    "    While loop\n",
    "    List comprehensions\n",
    "    Dictionary comprehensions\n",
    "Functions\n",
    "Map\n",
    "Filter\n",
    "Reduce"
   ]
  },
  {
   "cell_type": "markdown",
   "metadata": {},
   "source": [
    "# Conditional Statements \n",
    "#If-Elif-Else"
   ]
  },
  {
   "cell_type": "code",
   "execution_count": 1,
   "metadata": {},
   "outputs": [
    {
     "name": "stdout",
     "output_type": "stream",
     "text": [
      "Enter your test score: 60\n"
     ]
    }
   ],
   "source": [
    "score = int(input(\"Enter your test score: \"))\n",
    "passing = 40\n",
    "distinction = 90"
   ]
  },
  {
   "cell_type": "code",
   "execution_count": 2,
   "metadata": {},
   "outputs": [
    {
     "name": "stdout",
     "output_type": "stream",
     "text": [
      "you have passed!\n"
     ]
    }
   ],
   "source": [
    "if score >= distinction:\n",
    "    print(\"you're at the top! you've earned a distinction!\")\n",
    "if score >= passing and score < distinction:\n",
    "    print(\"you have passed!\")\n",
    "if score < passing:\n",
    "    print(\"sorry! you have failed\")"
   ]
  },
  {
   "cell_type": "code",
   "execution_count": 3,
   "metadata": {},
   "outputs": [
    {
     "name": "stdout",
     "output_type": "stream",
     "text": [
      "second class\n"
     ]
    }
   ],
   "source": [
    "if score == 100:\n",
    "    print(\"prefect\")\n",
    "elif 90 <= score < 100:\n",
    "    print(\"distinction\")\n",
    "elif 65 <= score < 90:\n",
    "    print(\"first class\")\n",
    "elif 40 <= score < 65:\n",
    "    print(\"second class\")\n",
    "else:\n",
    "    print(\"failed\")\n"
   ]
  },
  {
   "cell_type": "code",
   "execution_count": 4,
   "metadata": {},
   "outputs": [
    {
     "name": "stdout",
     "output_type": "stream",
     "text": [
      "Bad review!\n"
     ]
    }
   ],
   "source": [
    "statement = \"The coffee is bad\"\n",
    "if 'bad' in statement:\n",
    "    print(\"Bad review!\")\n",
    "\n",
    "statement2 = \"This phone works great\"\n",
    "\n",
    "if 'bad' in statement2:\n",
    "    print(\"This is not a bad review\")"
   ]
  },
  {
   "cell_type": "code",
   "execution_count": 7,
   "metadata": {},
   "outputs": [
    {
     "name": "stdout",
     "output_type": "stream",
     "text": [
      "Enter a number: 12\n",
      "Even\n",
      "divisible by 4\n"
     ]
    }
   ],
   "source": [
    "num = int(input(\"Enter a number: \"))\n",
    "if num%2 == 0:\n",
    "    print(\"Even\")\n",
    "    if num%4 == 0:\n",
    "        print(\"divisible by 4\")\n",
    "    else:\n",
    "        print(\"Not divisible by 4\")\n",
    "else:\n",
    "    print(\"Odd\")\n",
    "    if num%3 == 0:\n",
    "        print(\"Divisible by 3\")\n",
    "    else:\n",
    "        print(\"Not divisible by 3\")\n"
   ]
  },
  {
   "cell_type": "code",
   "execution_count": 8,
   "metadata": {
    "collapsed": true
   },
   "outputs": [],
   "source": [
    "if None:\n",
    "    print(\"Is True\")"
   ]
  },
  {
   "cell_type": "code",
   "execution_count": 17,
   "metadata": {},
   "outputs": [
    {
     "name": "stdout",
     "output_type": "stream",
     "text": [
      "Yes\n"
     ]
    }
   ],
   "source": [
    "#Write a code to check if the string in input_str starts with a vowel or not. Print capital YES  or NO.\n",
    "\n",
    "#For example, if input_str = 'analytics' then, your output should print 'YES'.\n",
    "\n",
    "input_str = 'analytics'\n",
    "if input_str[0]  in ('aeiou'):\n",
    "    print(\"Yes\")\n",
    "else:\n",
    "    print(\"No\")\n",
    "    "
   ]
  },
  {
   "cell_type": "code",
   "execution_count": 24,
   "metadata": {},
   "outputs": [
    {
     "name": "stdout",
     "output_type": "stream",
     "text": [
      "Enter a number: 35\n",
      "F\n"
     ]
    }
   ],
   "source": [
    "#Given the code below, the output obtained in several runs is 'C' 'A' 'D' 'B'.\n",
    "score = int(input(\"Enter a number: \"))\n",
    "\n",
    "if score >= 90:\n",
    "   print('A')\n",
    "elif score >=80:\n",
    "   print('B')\n",
    "elif score >= 70:\n",
    "   print('C')\n",
    "elif score >= 60:\n",
    "   print('D')\n",
    "else:\n",
    "   print('F')"
   ]
  },
  {
   "cell_type": "code",
   "execution_count": 25,
   "metadata": {},
   "outputs": [
    {
     "name": "stdout",
     "output_type": "stream",
     "text": [
      "B\n"
     ]
    }
   ],
   "source": [
    "if (10 < 0) and (0 < -10):\n",
    "    print(\"A\")\n",
    "elif (10 > 0) or False:\n",
    "    print(\"B\")\n",
    "else:\n",
    "    print(\"C\")"
   ]
  },
  {
   "cell_type": "code",
   "execution_count": 26,
   "metadata": {},
   "outputs": [
    {
     "name": "stdout",
     "output_type": "stream",
     "text": [
      "B\n"
     ]
    }
   ],
   "source": [
    "if True or True:\n",
    "    if False and True or False:\n",
    "        print('A')\n",
    "    elif False and False or True and True:\n",
    "        print('B')\n",
    "    else:\n",
    "        print('C')\n",
    "else:\n",
    "    print('D')"
   ]
  },
  {
   "cell_type": "markdown",
   "metadata": {},
   "source": [
    "# Loops"
   ]
  },
  {
   "cell_type": "code",
   "execution_count": 1,
   "metadata": {},
   "outputs": [
    {
     "name": "stdout",
     "output_type": "stream",
     "text": [
      "1\n",
      "2\n",
      "3\n",
      "4\n"
     ]
    }
   ],
   "source": [
    "#for loop\n",
    "\n",
    "for i in range(1,5):\n",
    "    print(i)"
   ]
  },
  {
   "cell_type": "code",
   "execution_count": 2,
   "metadata": {},
   "outputs": [
    {
     "name": "stdout",
     "output_type": "stream",
     "text": [
      "1\n",
      "3\n",
      "5\n",
      "7\n",
      "9\n"
     ]
    }
   ],
   "source": [
    "for i in range(1,10,2):\n",
    "    print(i)"
   ]
  },
  {
   "cell_type": "code",
   "execution_count": 7,
   "metadata": {},
   "outputs": [
    {
     "name": "stdout",
     "output_type": "stream",
     "text": [
      "m\n",
      "a\n",
      "r\n",
      "y\n",
      " \n",
      "h\n",
      "a\n",
      "d\n",
      " \n",
      "a\n",
      " \n",
      "l\n",
      "i\n",
      "t\n",
      "t\n",
      "l\n",
      "e\n",
      " \n",
      "l\n",
      "a\n",
      "m\n",
      "b\n"
     ]
    }
   ],
   "source": [
    "#looping on a string\n",
    "\n",
    "my_string = \"mary had a little lamb\"\n",
    "\n",
    "for alphabet in my_string:\n",
    "    print(alphabet)"
   ]
  },
  {
   "cell_type": "code",
   "execution_count": 8,
   "metadata": {},
   "outputs": [
    {
     "name": "stdout",
     "output_type": "stream",
     "text": [
      "m 0\n",
      "a 1\n",
      "r 2\n",
      "y 3\n",
      "  4\n",
      "h 5\n",
      "a 6\n",
      "d 7\n",
      "  8\n",
      "a 9\n",
      "  10\n",
      "l 11\n",
      "i 12\n",
      "t 13\n",
      "t 14\n",
      "l 15\n",
      "e 16\n",
      "  17\n",
      "l 18\n",
      "a 19\n",
      "m 20\n",
      "b 21\n"
     ]
    }
   ],
   "source": [
    "my_string = \"mary had a little lamb\"\n",
    "\n",
    "for n,alphabet in enumerate(my_string):\n",
    "    print(alphabet,n)"
   ]
  },
  {
   "cell_type": "code",
   "execution_count": 4,
   "metadata": {},
   "outputs": [
    {
     "name": "stdout",
     "output_type": "stream",
     "text": [
      " a a a i e a\n"
     ]
    }
   ],
   "source": [
    "#pattern to print\n",
    "vowels = ''\n",
    "\n",
    "for alphabet in my_string:\n",
    "    if alphabet in 'aeiou':\n",
    "        vowels += ' '+alphabet\n",
    "print(vowels)"
   ]
  },
  {
   "cell_type": "code",
   "execution_count": 11,
   "metadata": {},
   "outputs": [
    {
     "name": "stdout",
     "output_type": "stream",
     "text": [
      " * \n",
      " * * \n",
      " * * * \n",
      " * * * * \n",
      " * * * * * \n",
      " * * * * \n",
      " * * * \n",
      " * * \n",
      " * \n"
     ]
    }
   ],
   "source": [
    "str1 = ' '\n",
    "for i in range(0,9):\n",
    "    if i < 5:\n",
    "        str1 += '* '\n",
    "        print(str1)\n",
    "    elif i > 4:\n",
    "        str1 = str1[:-2]\n",
    "        print(str1)"
   ]
  },
  {
   "cell_type": "code",
   "execution_count": 18,
   "metadata": {},
   "outputs": [
    {
     "name": "stdout",
     "output_type": "stream",
     "text": [
      "0\n",
      "1\n",
      "2\n",
      "3\n",
      "4\n",
      "5\n",
      "6\n",
      "7\n",
      "8\n",
      "9\n",
      "10\n",
      "11\n",
      "12\n",
      "13\n",
      "14\n",
      "15\n",
      "16\n",
      "17\n",
      "18\n",
      "19\n",
      "20\n",
      "21\n",
      "22\n",
      "23\n",
      "24\n",
      "25\n",
      "26\n",
      "27\n",
      "28\n",
      "29\n",
      "30\n",
      "31\n",
      "32\n",
      "33\n",
      "34\n",
      "35\n",
      "36\n",
      "37\n",
      "38\n",
      "39\n",
      "40\n",
      "41\n",
      "42\n",
      "43\n",
      "44\n",
      "45\n",
      "46\n",
      "47\n",
      "48\n",
      "49\n",
      "50\n",
      "51\n"
     ]
    }
   ],
   "source": [
    "for i in range(100):\n",
    "    print(i)\n",
    "    if i>50:\n",
    "        break\n",
    "        print(\"Hello\")"
   ]
  },
  {
   "cell_type": "code",
   "execution_count": 21,
   "metadata": {},
   "outputs": [
    {
     "name": "stdout",
     "output_type": "stream",
     "text": [
      "beautiful\n",
      "morning\n"
     ]
    }
   ],
   "source": [
    "#sentence check\n",
    "tweet = '#beautiful #morning it is looking good'\n",
    "\n",
    "for word in tweet.split():\n",
    "    if word.startswith(\"#\"):\n",
    "        print(word[1:])\n"
   ]
  },
  {
   "cell_type": "code",
   "execution_count": 25,
   "metadata": {
    "collapsed": true
   },
   "outputs": [],
   "source": [
    "students_data = {1:['Shivam Bansal',24],2:['Udit Bansal', 25],3:['Sonam',23]}"
   ]
  },
  {
   "cell_type": "code",
   "execution_count": 26,
   "metadata": {},
   "outputs": [
    {
     "name": "stdout",
     "output_type": "stream",
     "text": [
      "1 ['Shivam Bansal', 24]\n",
      "2 ['Udit Bansal', 25]\n",
      "3 ['Sonam', 23]\n"
     ]
    }
   ],
   "source": [
    "for key, val in students_data.items():\n",
    "    print(key, val)"
   ]
  },
  {
   "cell_type": "code",
   "execution_count": 28,
   "metadata": {},
   "outputs": [
    {
     "name": "stdout",
     "output_type": "stream",
     "text": [
      "2\n"
     ]
    }
   ],
   "source": [
    "count = 0\n",
    "for key, val in students_data.items():\n",
    "    if val[1]<25:\n",
    "        count+=1\n",
    "\n",
    "print(count)"
   ]
  },
  {
   "cell_type": "code",
   "execution_count": 29,
   "metadata": {},
   "outputs": [
    {
     "name": "stdout",
     "output_type": "stream",
     "text": [
      "21\n",
      "22\n",
      "23\n",
      "24\n",
      "25\n",
      "26\n",
      "27\n",
      "28\n",
      "29\n",
      "30\n",
      "31\n",
      "32\n",
      "33\n",
      "34\n",
      "35\n",
      "36\n",
      "37\n",
      "38\n",
      "39\n",
      "40\n",
      "41\n",
      "42\n",
      "43\n",
      "44\n",
      "45\n",
      "46\n",
      "47\n",
      "48\n",
      "49\n",
      "50\n",
      "51\n",
      "1085\n"
     ]
    }
   ],
   "source": [
    "#while loop\n",
    "start = 20\n",
    "total = 0\n",
    "\n",
    "while start < 51:\n",
    "    total += start\n",
    "    start += 1\n",
    "    print(start)\n",
    "    \n",
    "print(total)"
   ]
  },
  {
   "cell_type": "code",
   "execution_count": 30,
   "metadata": {},
   "outputs": [
    {
     "name": "stdout",
     "output_type": "stream",
     "text": [
      "0\n",
      "1\n",
      "2\n"
     ]
    }
   ],
   "source": [
    "d = {0: 'Fish', 1: 'Bird', 2: 'Mammal'}\n",
    "for i in d:\n",
    "    print(i)"
   ]
  },
  {
   "cell_type": "code",
   "execution_count": 31,
   "metadata": {},
   "outputs": [
    {
     "name": "stdout",
     "output_type": "stream",
     "text": [
      "None\n",
      "None\n",
      "None\n"
     ]
    }
   ],
   "source": [
    "d = {0, 1, 2}\n",
    "for x in d:\n",
    "    print(d.add(x))"
   ]
  },
  {
   "cell_type": "code",
   "execution_count": 33,
   "metadata": {},
   "outputs": [
    {
     "name": "stdout",
     "output_type": "stream",
     "text": [
      "1 is not divisible by 3\n",
      "2 is not divisible by 3\n",
      "3 is Divisible by 3\n"
     ]
    }
   ],
   "source": [
    "for i in range(1,6):\n",
    "    if (i % 3 == 0):\n",
    "        print(str(i) + \" is Divisible by 3\")\n",
    "        break\n",
    "\n",
    "    print(str(i) + \" is not divisible by 3\")\n",
    " \n",
    "\n"
   ]
  },
  {
   "cell_type": "code",
   "execution_count": 34,
   "metadata": {},
   "outputs": [
    {
     "name": "stdout",
     "output_type": "stream",
     "text": [
      "1 is not divisible by 3\n",
      "2 is not divisible by 3\n",
      "3 is Divisible by 3\n",
      "4 is not divisible by 3\n",
      "5 is not divisible by 3\n"
     ]
    }
   ],
   "source": [
    "for i in range(1,6):\n",
    "    if (i % 3 == 0):\n",
    "        print(str(i) + \" is Divisible by 3\")\n",
    "        continue\n",
    "\n",
    "    print(str(i) + \" is not divisible by 3\")\n",
    " \n",
    "\n"
   ]
  },
  {
   "cell_type": "code",
   "execution_count": 35,
   "metadata": {},
   "outputs": [
    {
     "name": "stdout",
     "output_type": "stream",
     "text": [
      "1 is not divisible by 3\n",
      "2 is not divisible by 3\n",
      "3 is Divisible by 3\n",
      "3 is not divisible by 3\n",
      "4 is not divisible by 3\n",
      "5 is not divisible by 3\n"
     ]
    }
   ],
   "source": [
    "for i in range(1,6):\n",
    "    if (i % 3 == 0):\n",
    "        print(str(i) + \" is Divisible by 3\")\n",
    "        pass\n",
    "\n",
    "    print(str(i) + \" is not divisible by 3\")"
   ]
  }
 ],
 "metadata": {
  "kernelspec": {
   "display_name": "Python 3",
   "language": "python",
   "name": "python3"
  },
  "language_info": {
   "codemirror_mode": {
    "name": "ipython",
    "version": 3
   },
   "file_extension": ".py",
   "mimetype": "text/x-python",
   "name": "python",
   "nbconvert_exporter": "python",
   "pygments_lexer": "ipython3",
   "version": "3.6.1"
  }
 },
 "nbformat": 4,
 "nbformat_minor": 2
}

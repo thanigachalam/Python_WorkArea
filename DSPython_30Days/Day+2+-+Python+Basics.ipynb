{
 "cells": [
  {
   "cell_type": "code",
   "execution_count": null,
   "metadata": {
    "collapsed": true
   },
   "outputs": [],
   "source": [
    "#Agenda\n",
    "\n",
    "#Conditional Statements\n",
    "#Functions\n",
    "#OOP (Classes & Objects)\n",
    "#Summary\n",
    "#Exercises"
   ]
  },
  {
   "cell_type": "code",
   "execution_count": 2,
   "metadata": {
    "collapsed": true
   },
   "outputs": [],
   "source": [
    "#Conditional Statements\n",
    "day ='sunday'"
   ]
  },
  {
   "cell_type": "code",
   "execution_count": 3,
   "metadata": {},
   "outputs": [
    {
     "name": "stdout",
     "output_type": "stream",
     "text": [
      "today is holiday\n"
     ]
    }
   ],
   "source": [
    "if day=='sunday':\n",
    "    print(\"today is holiday\")\n",
    "else:\n",
    "    print(\"working day\")"
   ]
  },
  {
   "cell_type": "code",
   "execution_count": 6,
   "metadata": {},
   "outputs": [
    {
     "name": "stdout",
     "output_type": "stream",
     "text": [
      "Hey! This is Division teller,3\n",
      "please enter 1 or 2\n"
     ]
    }
   ],
   "source": [
    "div = int(input('Hey! This is Division teller,'))\n",
    "\n",
    "if div==1:\n",
    "    print(\"division is 1\")\n",
    "elif div==2:\n",
    "    print(\"division is 2\")\n",
    "else:\n",
    "    print(\"please enter 1 or 2\")"
   ]
  },
  {
   "cell_type": "code",
   "execution_count": null,
   "metadata": {
    "collapsed": true
   },
   "outputs": [],
   "source": [
    "#logical operator: and , or, not"
   ]
  },
  {
   "cell_type": "code",
   "execution_count": 14,
   "metadata": {
    "collapsed": true
   },
   "outputs": [],
   "source": [
    "color='red'\n",
    "fruit='apple'"
   ]
  },
  {
   "cell_type": "code",
   "execution_count": 15,
   "metadata": {},
   "outputs": [
    {
     "name": "stdout",
     "output_type": "stream",
     "text": [
      "hey! i found a red apple\n"
     ]
    }
   ],
   "source": [
    "if color=='red' and fruit=='apple':\n",
    "    print('hey! i found a red apple')\n",
    "else:\n",
    "    print('hey! i found somthing that looks like apple but its not')"
   ]
  },
  {
   "cell_type": "code",
   "execution_count": 12,
   "metadata": {
    "collapsed": true
   },
   "outputs": [],
   "source": [
    "#remove variable from memory\n",
    "del color"
   ]
  },
  {
   "cell_type": "code",
   "execution_count": null,
   "metadata": {
    "collapsed": true
   },
   "outputs": [],
   "source": [
    "#function!!!!!!!!!"
   ]
  },
  {
   "cell_type": "code",
   "execution_count": 19,
   "metadata": {},
   "outputs": [
    {
     "name": "stdout",
     "output_type": "stream",
     "text": [
      "\n",
      "\n",
      "* \n",
      "\n",
      "* * \n",
      "\n",
      "* * * \n",
      "\n",
      "* * * * \n",
      "\n"
     ]
    }
   ],
   "source": [
    "for i in range(5):\n",
    "    for x in range(i):\n",
    "        print('*',end=\" \")\n",
    "    print(\"\\n\")\n"
   ]
  },
  {
   "cell_type": "code",
   "execution_count": 20,
   "metadata": {
    "collapsed": true
   },
   "outputs": [],
   "source": [
    "#function\n",
    "# used for code reusability\n",
    "\n",
    "def printMsg():\n",
    "    print(\"hello from python! function!\")"
   ]
  },
  {
   "cell_type": "code",
   "execution_count": 21,
   "metadata": {},
   "outputs": [
    {
     "name": "stdout",
     "output_type": "stream",
     "text": [
      "hello from python! function!\n"
     ]
    }
   ],
   "source": [
    "printMsg() #calling function"
   ]
  },
  {
   "cell_type": "code",
   "execution_count": 22,
   "metadata": {
    "collapsed": true
   },
   "outputs": [],
   "source": [
    "#function with parameter\n",
    "\n",
    "def sayMyMsg(msg):\n",
    "    print(\"you said \", msg)\n"
   ]
  },
  {
   "cell_type": "code",
   "execution_count": 23,
   "metadata": {},
   "outputs": [
    {
     "name": "stdout",
     "output_type": "stream",
     "text": [
      "you said  Cool\n"
     ]
    }
   ],
   "source": [
    "sayMyMsg(\"Cool\")"
   ]
  },
  {
   "cell_type": "code",
   "execution_count": 27,
   "metadata": {},
   "outputs": [
    {
     "name": "stdout",
     "output_type": "stream",
     "text": [
      "100\n"
     ]
    }
   ],
   "source": [
    "#return type function\n",
    "\n",
    "def givemebucks():\n",
    "    return 100\n",
    "\n",
    "#givemebucks()\n",
    "\n",
    "money = givemebucks()\n",
    "\n",
    "print(money)"
   ]
  },
  {
   "cell_type": "code",
   "execution_count": null,
   "metadata": {
    "collapsed": true
   },
   "outputs": [],
   "source": [
    "#lets deep dive more into types of functions.."
   ]
  },
  {
   "cell_type": "code",
   "execution_count": 28,
   "metadata": {
    "collapsed": true
   },
   "outputs": [],
   "source": [
    "# default parameters functions\n",
    "\n",
    "def printDetails(name,age,address=\"NA\"):\n",
    "    print('hi! {} name your age is {} and address {}'.format(name,age,address))"
   ]
  },
  {
   "cell_type": "code",
   "execution_count": 29,
   "metadata": {},
   "outputs": [
    {
     "name": "stdout",
     "output_type": "stream",
     "text": [
      "hi! thani name your age is 1 and address abc\n"
     ]
    }
   ],
   "source": [
    "printDetails('thani',1,'abc')"
   ]
  },
  {
   "cell_type": "code",
   "execution_count": 30,
   "metadata": {},
   "outputs": [
    {
     "name": "stdout",
     "output_type": "stream",
     "text": [
      "hi! mydoc name your age is 28 and address NA\n"
     ]
    }
   ],
   "source": [
    "printDetails('mydoc',28)"
   ]
  },
  {
   "cell_type": "code",
   "execution_count": null,
   "metadata": {
    "collapsed": true
   },
   "outputs": [],
   "source": [
    "#anonymous functions | lambda expressions"
   ]
  },
  {
   "cell_type": "code",
   "execution_count": 31,
   "metadata": {
    "collapsed": true
   },
   "outputs": [],
   "source": [
    "#create a lambda expression to print a next number\n",
    "\n",
    "n= lambda x : x +1"
   ]
  },
  {
   "cell_type": "code",
   "execution_count": 33,
   "metadata": {},
   "outputs": [
    {
     "data": {
      "text/plain": [
       "5"
      ]
     },
     "execution_count": 33,
     "metadata": {},
     "output_type": "execute_result"
    }
   ],
   "source": [
    "n(4)"
   ]
  },
  {
   "cell_type": "code",
   "execution_count": 36,
   "metadata": {},
   "outputs": [
    {
     "data": {
      "text/plain": [
       "10"
      ]
     },
     "execution_count": 36,
     "metadata": {},
     "output_type": "execute_result"
    }
   ],
   "source": [
    "summ = lambda x,y : x+y\n",
    "summ(2,8)"
   ]
  },
  {
   "cell_type": "code",
   "execution_count": 45,
   "metadata": {
    "collapsed": true
   },
   "outputs": [],
   "source": [
    "#variable parameters\n",
    "\n",
    "def showAll(*values): # * avoid adding multiple parameters\n",
    "    #print(type(values)) #<class 'tuple'>\n",
    "    #pass #pass is filler just used to keep function  empty\n",
    "    for x in values:\n",
    "        print(\"i found \",x)"
   ]
  },
  {
   "cell_type": "code",
   "execution_count": 46,
   "metadata": {},
   "outputs": [
    {
     "name": "stdout",
     "output_type": "stream",
     "text": [
      "i found  1\n",
      "i found  2\n",
      "i found  hi\n",
      "i found  4\n"
     ]
    }
   ],
   "source": [
    "showAll(1,2,\"hi\",4)"
   ]
  },
  {
   "cell_type": "code",
   "execution_count": null,
   "metadata": {
    "collapsed": true
   },
   "outputs": [],
   "source": [
    "#class\n",
    "\n",
    "# car > class\n",
    "# weel > object\n",
    "# rotate > function\n",
    "\n",
    "#class & Objects in Action!!!!"
   ]
  },
  {
   "cell_type": "code",
   "execution_count": 47,
   "metadata": {},
   "outputs": [
    {
     "name": "stdout",
     "output_type": "stream",
     "text": [
      "Hey Buddy! you just gave birth to a puppy!\n",
      "Woof woof!! common go away!!\n"
     ]
    }
   ],
   "source": [
    "class Dog:\n",
    "    def __init__(self):\n",
    "        print(\"Hey Buddy! you just gave birth to a puppy!\")\n",
    "    \n",
    "    def Bark(self): #self is manditory to be added in function\n",
    "        print('Woof woof!! common go away!!')\n",
    "\n",
    "tommy = Dog() #creating object and calling constructor\n",
    "#tommy is object\n",
    "tommy.Bark() # calling the function using object\n",
    "    "
   ]
  },
  {
   "cell_type": "code",
   "execution_count": null,
   "metadata": {
    "collapsed": true
   },
   "outputs": [],
   "source": [
    "#write a program to accept x and y and print x raised to the power of y\n"
   ]
  },
  {
   "cell_type": "code",
   "execution_count": 48,
   "metadata": {},
   "outputs": [
    {
     "name": "stdout",
     "output_type": "stream",
     "text": [
      "program to raise x value\n",
      "Enter the value of x \n",
      "4\n",
      "Enter the value of y \n",
      "2\n",
      "Result is  16\n"
     ]
    }
   ],
   "source": [
    "class MathPower:\n",
    "    def __init__(self):\n",
    "        print(\"program to raise x value\")\n",
    "    def Accept(self):\n",
    "        self.x = int(input(\"Enter the value of x \\n\"))\n",
    "        self.y = int(input(\"Enter the value of y \\n\"))\n",
    "    def showResult(self):\n",
    "        self.result=self.x**self.y\n",
    "        print(\"Result is \",self.result)\n",
    "\n",
    "mp = MathPower()\n",
    "mp.Accept()\n",
    "mp.showResult()"
   ]
  }
 ],
 "metadata": {
  "kernelspec": {
   "display_name": "Python 3",
   "language": "python",
   "name": "python3"
  },
  "language_info": {
   "codemirror_mode": {
    "name": "ipython",
    "version": 3
   },
   "file_extension": ".py",
   "mimetype": "text/x-python",
   "name": "python",
   "nbconvert_exporter": "python",
   "pygments_lexer": "ipython3",
   "version": "3.6.1"
  }
 },
 "nbformat": 4,
 "nbformat_minor": 2
}

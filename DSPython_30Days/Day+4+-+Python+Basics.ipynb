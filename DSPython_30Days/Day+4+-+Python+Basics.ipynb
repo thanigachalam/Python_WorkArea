{
 "cells": [
  {
   "cell_type": "code",
   "execution_count": null,
   "metadata": {
    "collapsed": true
   },
   "outputs": [],
   "source": [
    "#NumPy Overview\n",
    "#Arrays\n",
    "#Array Manipluations\n",
    "#Advanced Array Manipulations\n",
    "#Exercises"
   ]
  },
  {
   "cell_type": "code",
   "execution_count": 2,
   "metadata": {},
   "outputs": [
    {
     "name": "stdout",
     "output_type": "stream",
     "text": [
      "[1 2 3 4]\n",
      "<class 'numpy.ndarray'>\n"
     ]
    }
   ],
   "source": [
    "#numpy\n",
    "\n",
    "import numpy as np\n",
    "\n",
    "myPylist = [1,2,3,4]\n",
    "\n",
    "#convert list to numpy array\n",
    "\n",
    "numpy_array = np.array(myPylist)\n",
    "\n",
    "print(numpy_array)\n",
    "print(type(numpy_array))"
   ]
  },
  {
   "cell_type": "code",
   "execution_count": 4,
   "metadata": {},
   "outputs": [
    {
     "name": "stdout",
     "output_type": "stream",
     "text": [
      "[1 2 3 4]\n",
      "int32\n",
      "[ 1.  2.  3.  4.]\n",
      "float64\n",
      "[1 2 3 4]\n",
      "int64\n"
     ]
    }
   ],
   "source": [
    "#Arrays of various data types\n",
    "\n",
    "x = np.array([1,2,3,4])\n",
    "print(x)\n",
    "print(x.dtype)\n",
    "\n",
    "y = np.array([1.0,2.0,3.0,4.0])\n",
    "print(y)\n",
    "print(y.dtype)\n",
    "\n",
    "\n",
    "z = np.array([1,2,3,4], dtype=np.int64)\n",
    "print(z)\n",
    "print(z.dtype)"
   ]
  },
  {
   "cell_type": "code",
   "execution_count": 12,
   "metadata": {},
   "outputs": [
    {
     "name": "stdout",
     "output_type": "stream",
     "text": [
      "Total size occupied by python list (bytes)  28000\n",
      "total size of numpy array (bytes)  4000\n"
     ]
    }
   ],
   "source": [
    "#how numpy is memory efficient!!!\n",
    "#import time\n",
    "\n",
    "# creat a list (python) and array(numpy) of size 1000 element\n",
    "#check the total memory occupany of each list\n",
    "\n",
    "\n",
    "import sys\n",
    "\n",
    "python_list = range(1000) #0 to n-1\n",
    "\n",
    "numpy_array = np.arange(1000) #0 to n-1\n",
    "\n",
    "print(\"Total size occupied by python list (bytes) \",(len(python_list)*sys.getsizeof(1)))\n",
    "\n",
    "print(\"total size of numpy array (bytes) \", numpy_array.size * numpy_array.itemsize)\n",
    "\n",
    "#numpy_array.size : return number of elements in array\n",
    "#numpy_array.itemsize : return size occuped by 1 elements in numpy array"
   ]
  },
  {
   "cell_type": "code",
   "execution_count": 21,
   "metadata": {},
   "outputs": [
    {
     "name": "stdout",
     "output_type": "stream",
     "text": [
      "list took  20251.351356506348\n",
      "list took time for numpy 2951.347589492798\n"
     ]
    }
   ],
   "source": [
    "#performance factor in numpy: output in milliseconds\n",
    "\n",
    "import time\n",
    "SIZE=10000000\n",
    "L1 = range(SIZE)\n",
    "L2 = range(SIZE)\n",
    "\n",
    "A1=np.arange(SIZE)\n",
    "A2=np.arange(SIZE)\n",
    "#python list for time tracking\n",
    "start = time.time() #ticks/seconds\n",
    "#time.sleep(.2)\n",
    "result = [(x+y) for x,y in zip(L1,L2)] #zip will pull each item from zip and store in differt variables\n",
    "\n",
    "end = time.time()\n",
    "print(\"list took \",(end-start)*1000) #milliseconds ms\n",
    "\n",
    "#list time trackiing for Numpy\n",
    "start = time.time() #ticks/seconds\n",
    "#time.sleep(.2)\n",
    "result = A1+A2\n",
    "\n",
    "end = time.time()\n",
    "print(\"list took time for numpy\",(end-start)*1000) #milliseconds ms"
   ]
  },
  {
   "cell_type": "code",
   "execution_count": 24,
   "metadata": {},
   "outputs": [
    {
     "name": "stdout",
     "output_type": "stream",
     "text": [
      "[[ 0.34808584  0.59993906  0.44394916  0.40177828  0.16892283  0.46160729]\n",
      " [ 0.54667663  0.98694791  0.10735214  0.84073499  0.92694842  0.28466971]]\n"
     ]
    }
   ],
   "source": [
    "#generating random number in numpy\n",
    "\n",
    "print(np.random.rand(2,6)) #this generates array of given dimension and \n",
    "#number will be 1 and 0"
   ]
  },
  {
   "cell_type": "code",
   "execution_count": 25,
   "metadata": {},
   "outputs": [
    {
     "name": "stdout",
     "output_type": "stream",
     "text": [
      "['u' 'a' 'a' 'u' 'i' 'o' 'a' 'u' 'o' 'i']\n"
     ]
    }
   ],
   "source": [
    "print(np.random.choice(['a','e','i','o','u'],size=10))"
   ]
  },
  {
   "cell_type": "code",
   "execution_count": 28,
   "metadata": {},
   "outputs": [
    {
     "name": "stdout",
     "output_type": "stream",
     "text": [
      "[1 2 3 4]\n",
      "(4,)\n"
     ]
    }
   ],
   "source": [
    "#shape of arrays : 1 Dim array\n",
    "\n",
    "a = np.array([1,2,3,4]) #its a 1Dim array\n",
    "print(a)\n",
    "print(a.shape)"
   ]
  },
  {
   "cell_type": "code",
   "execution_count": 31,
   "metadata": {},
   "outputs": [
    {
     "name": "stdout",
     "output_type": "stream",
     "text": [
      "(2, 4)\n"
     ]
    }
   ],
   "source": [
    "#creating 2D array\n",
    "\n",
    "b = np.array([[1,2,3,4],[5,6,7,8]])\n",
    "\n",
    "print(b.shape)"
   ]
  },
  {
   "cell_type": "code",
   "execution_count": 34,
   "metadata": {},
   "outputs": [
    {
     "name": "stdout",
     "output_type": "stream",
     "text": [
      "[[1 2 3 4]\n",
      " [5 6 7 8]]\n",
      "shape of b is  (2, 4)\n",
      "\n",
      "\n",
      "\n",
      "[[1 2]\n",
      " [3 4]\n",
      " [5 6]\n",
      " [7 8]]\n"
     ]
    }
   ],
   "source": [
    "b = np.array([[1,2,3,4],[5,6,7,8]])\n",
    "print(b)\n",
    "print(\"shape of b is \",b.shape)\n",
    "\n",
    "#reshape the array\n",
    "b = b.reshape(4,2)\n",
    "print(\"\\n\\n\")\n",
    "print(b)"
   ]
  },
  {
   "cell_type": "code",
   "execution_count": 36,
   "metadata": {},
   "outputs": [
    {
     "name": "stdout",
     "output_type": "stream",
     "text": [
      "<class 'numpy.ndarray'>\n",
      "1 2 [2]\n",
      "[5 2 3 4 5]\n",
      "1 2 4\n"
     ]
    }
   ],
   "source": [
    "#testing\n",
    "\n",
    "a = np.array([1,2,3,4,5])\n",
    "print(type(a))\n",
    "\n",
    "print(a[0],a[1],[2])\n",
    "\n",
    "a[0]=5\n",
    "print(a)\n",
    "\n",
    "#2D array\n",
    "\n",
    "b = np.array([[1,2,4],[4,5,6]])\n",
    "\n",
    "print(b[0,0],b[0,1],b[1,0])"
   ]
  },
  {
   "cell_type": "code",
   "execution_count": 49,
   "metadata": {},
   "outputs": [
    {
     "name": "stdout",
     "output_type": "stream",
     "text": [
      "[[ 1  2  3  4]\n",
      " [ 5  6  7  8]\n",
      " [ 9 10 11 12]]\n",
      "[5 6 7 8]\n",
      "[[5 6 7 8]]\n"
     ]
    }
   ],
   "source": [
    "#slicing in 2D array\n",
    "\n",
    "a = np.array([[1,2,3,4],[5,6,7,8],[9,10,11,12]])\n",
    "\n",
    "print(a)\n",
    "\n",
    "#print(a.shape)\n",
    "\n",
    "row_1 = a[1,:] # a [ row_index, column Index] here : is for all the columns\n",
    "\n",
    "print(row_1)\n",
    "\n",
    "row_1_copy=a[1:2,:]\n",
    "print(row_1_copy)\n",
    "\n",
    "#pull 2 and 3\n",
    "\n"
   ]
  },
  {
   "cell_type": "code",
   "execution_count": 67,
   "metadata": {},
   "outputs": [
    {
     "name": "stdout",
     "output_type": "stream",
     "text": [
      "2 3 6 7\n"
     ]
    }
   ],
   "source": [
    "\n",
    "print(a[0,1],a[0,2],a[1,1],a[1,2])"
   ]
  },
  {
   "cell_type": "code",
   "execution_count": 75,
   "metadata": {},
   "outputs": [
    {
     "name": "stdout",
     "output_type": "stream",
     "text": [
      "[[  1.   2.   3.   4.]\n",
      " [  5.   6.   7.   8.]\n",
      " [  9.  10.  11.  12.]]\n",
      "Mean value is  6.5\n",
      "Max value is  12.0\n",
      "Min value is  1.0\n",
      "column wise mean [ 1.  2.  3.  4.]\n",
      "column wise mean [ 1.  5.  9.]\n"
     ]
    }
   ],
   "source": [
    "#mathematical computations!\n",
    "\n",
    "mylist = [[1,2,3,4],[5,6,7,8],[9,10,11,12]]\n",
    "\n",
    "np_arr = np.array(mylist,dtype=\"float\")\n",
    "\n",
    "print(np_arr)\n",
    "\n",
    "print(\"Mean value is \",np_arr.mean())\n",
    "print(\"Max value is \",np_arr.max())\n",
    "print(\"Min value is \",np_arr.min())\n",
    "\n",
    "\n",
    "#-------------------------\n",
    "\n",
    "print(\"column wise mean\",np.amin(np_arr,axis=0))\n",
    "print(\"column wise mean\",np.amin(np_arr,axis=1))"
   ]
  },
  {
   "cell_type": "code",
   "execution_count": null,
   "metadata": {
    "collapsed": true
   },
   "outputs": [],
   "source": [
    "#maths with np array"
   ]
  },
  {
   "cell_type": "code",
   "execution_count": 81,
   "metadata": {},
   "outputs": [
    {
     "name": "stdout",
     "output_type": "stream",
     "text": [
      "[[ 6  8]\n",
      " [10 12]]\n",
      "[[-4 -4]\n",
      " [-4 -4]]\n",
      "[[-4 -4]\n",
      " [-4 -4]]\n",
      "[[ 5 12]\n",
      " [21 32]]\n",
      "[[ 0.2         0.33333333]\n",
      " [ 0.42857143  0.5       ]]\n"
     ]
    }
   ],
   "source": [
    "x=np.array([[1,2],[3,4]])\n",
    "y=np.array([[5,6],[7,8]])\n",
    "\n",
    "r1 = x+y\n",
    "print(r1)\n",
    "\n",
    "r2 = x-y\n",
    "print(r2)\n",
    "\n",
    "r3 = np.subtract(x,y)\n",
    "print(r3)\n",
    "\n",
    "r4 = np.multiply(x,y)\n",
    "print(r4)\n",
    "\n",
    "r5 = np.divide(x,y)\n",
    "print(r5)"
   ]
  },
  {
   "cell_type": "code",
   "execution_count": 86,
   "metadata": {},
   "outputs": [
    {
     "name": "stdout",
     "output_type": "stream",
     "text": [
      "[[[1 2 3]\n",
      "  [1 2 3]]]\n",
      "(1, 2, 3)\n"
     ]
    }
   ],
   "source": [
    "#3D array\n",
    "\n",
    "a = np.array([[[1,2,3],[1,2,3]]])\n",
    "print(a)\n",
    "print(a.shape)"
   ]
  }
 ],
 "metadata": {
  "kernelspec": {
   "display_name": "Python 3",
   "language": "python",
   "name": "python3"
  },
  "language_info": {
   "codemirror_mode": {
    "name": "ipython",
    "version": 3
   },
   "file_extension": ".py",
   "mimetype": "text/x-python",
   "name": "python",
   "nbconvert_exporter": "python",
   "pygments_lexer": "ipython3",
   "version": "3.6.1"
  }
 },
 "nbformat": 4,
 "nbformat_minor": 2
}

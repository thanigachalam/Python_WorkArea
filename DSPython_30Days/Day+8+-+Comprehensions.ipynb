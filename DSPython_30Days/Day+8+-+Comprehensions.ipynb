{
 "cells": [
  {
   "cell_type": "markdown",
   "metadata": {},
   "source": [
    "# List Comprehensions"
   ]
  },
  {
   "cell_type": "code",
   "execution_count": null,
   "metadata": {
    "collapsed": true
   },
   "outputs": [],
   "source": [
    "#advantage : code looks easy,"
   ]
  },
  {
   "cell_type": "code",
   "execution_count": 3,
   "metadata": {},
   "outputs": [
    {
     "name": "stdout",
     "output_type": "stream",
     "text": [
      "[1, 4, 9, 16, 25, 36, 49, 64, 81]\n"
     ]
    }
   ],
   "source": [
    "squares_list = []\n",
    "\n",
    "for X in range(1,10):\n",
    "    squares_list.append(X**2)\n",
    "print(squares_list)"
   ]
  },
  {
   "cell_type": "code",
   "execution_count": 5,
   "metadata": {},
   "outputs": [
    {
     "name": "stdout",
     "output_type": "stream",
     "text": [
      "[1, 4, 9, 16, 25, 36, 49, 64, 81]\n"
     ]
    }
   ],
   "source": [
    "squares_list = [x**2 for x in range(1,10)]\n",
    "print(squares_list)"
   ]
  },
  {
   "cell_type": "code",
   "execution_count": 11,
   "metadata": {
    "collapsed": true
   },
   "outputs": [],
   "source": [
    "paragraph = [\"this was a fox.\",\"it was brown in color\",\"it seems raining\"]"
   ]
  },
  {
   "cell_type": "code",
   "execution_count": 7,
   "metadata": {},
   "outputs": [
    {
     "name": "stdout",
     "output_type": "stream",
     "text": [
      "['this was a fox.', 'it was brown in color', 'it seems raining']\n"
     ]
    }
   ],
   "source": [
    "paragraph_list = [x for x in paragraph]\n",
    "\n",
    "print(paragraph_list)"
   ]
  },
  {
   "cell_type": "code",
   "execution_count": 9,
   "metadata": {},
   "outputs": [
    {
     "name": "stdout",
     "output_type": "stream",
     "text": [
      "['this', 'was', 'a', 'fox.', 'it', 'was', 'brown', 'in', 'color', 'it', 'seems', 'raining']\n"
     ]
    }
   ],
   "source": [
    "single_word_list = []\n",
    "\n",
    "for sentence in paragraph:\n",
    "    for word in sentence.split():\n",
    "        single_word_list.append(word)\n",
    "\n",
    "print(single_word_list)"
   ]
  },
  {
   "cell_type": "code",
   "execution_count": 8,
   "metadata": {},
   "outputs": [
    {
     "name": "stdout",
     "output_type": "stream",
     "text": [
      "['this', 'was', 'a', 'fox.', 'it', 'was', 'brown', 'in', 'color', 'it', 'seems', 'raining']\n"
     ]
    }
   ],
   "source": [
    "sentence_word_list = [word for sentence in paragraph for word in sentence.split()]\n",
    "\n",
    "print(sentence_word_list)"
   ]
  },
  {
   "cell_type": "code",
   "execution_count": 12,
   "metadata": {},
   "outputs": [
    {
     "name": "stdout",
     "output_type": "stream",
     "text": [
      "['a', 'it', 'in', 'it']\n"
     ]
    }
   ],
   "source": [
    "#list comp with if statement\n",
    "vowels = ['a','e','i','o','u']\n",
    "vowels_from_sentence = []\n",
    "\n",
    "for sentence in paragraph:\n",
    "    for word in sentence.split():\n",
    "        if word[0].lower() in vowels:\n",
    "            vowels_from_sentence.append(word)\n",
    "\n",
    "print(vowels_from_sentence)"
   ]
  },
  {
   "cell_type": "code",
   "execution_count": null,
   "metadata": {
    "collapsed": true
   },
   "outputs": [],
   "source": [
    "# [ for sentence in paragraph]\n",
    "# [ for sentence in paragraph for word in sentence.split()]"
   ]
  },
  {
   "cell_type": "code",
   "execution_count": 13,
   "metadata": {},
   "outputs": [
    {
     "name": "stdout",
     "output_type": "stream",
     "text": [
      "['this', 'was', 'a', 'fox.', 'it', 'was', 'brown', 'in', 'color', 'it', 'seems', 'raining']\n"
     ]
    }
   ],
   "source": [
    "vowels_comp = [word for sentence in paragraph for word in sentence.split()]\n",
    "\n",
    "print(vowels_comp)"
   ]
  },
  {
   "cell_type": "code",
   "execution_count": 14,
   "metadata": {},
   "outputs": [
    {
     "name": "stdout",
     "output_type": "stream",
     "text": [
      "{0: 0, 1: 1, 2: 4, 3: 9, 4: 16, 5: 25, 6: 36, 7: 49, 8: 64, 9: 81, 10: 100, 11: 121, 12: 144, 13: 169, 14: 196, 15: 225, 16: 256, 17: 289, 18: 324, 19: 361, 20: 400, 21: 441, 22: 484, 23: 529, 24: 576}\n"
     ]
    }
   ],
   "source": [
    "squared_dictionary = {num : num**2 for num in range(0,25)}\n",
    "print(squared_dictionary)"
   ]
  },
  {
   "cell_type": "code",
   "execution_count": 30,
   "metadata": {},
   "outputs": [
    {
     "name": "stdout",
     "output_type": "stream",
     "text": [
      "['old', 'apple', 'item', 'euphoria']\n"
     ]
    }
   ],
   "source": [
    "input_list=['wood', 'old', 'apple', 'big', 'item', 'euphoria'] \n",
    "\n",
    "vowels = ['a','e','i','o','u']\n",
    "vowels_from_list = []\n",
    "\n",
    "for word in input_list:\n",
    "    if word[0].lower() in vowels:\n",
    "        vowels_from_list.append(word)\n",
    "\n",
    "print(vowels_from_list)"
   ]
  },
  {
   "cell_type": "code",
   "execution_count": 32,
   "metadata": {},
   "outputs": [
    {
     "name": "stdout",
     "output_type": "stream",
     "text": [
      "[0, 0, 0, 0, 0, 0, 0, 0, 0, 0, 10, 11, 12, 13, 14, 15, 16, 17, 18, 19, 20, 22, 24, 26, 28, 30, 32, 34, 36, 38, 30, 33, 36, 39, 42, 45, 48, 51, 54, 57, 40, 44, 48, 52, 56, 60, 64, 68, 72, 76, 50, 55, 60, 65, 70, 75, 80, 85, 90, 95, 60, 66, 72, 78, 84, 90, 96, 102, 108, 114, 70, 77, 84, 91, 98, 105, 112, 119, 126, 133, 80, 88, 96, 104, 112, 120, 128, 136, 144, 152, 90, 99, 108, 117, 126, 135, 144, 153, 162, 171]\n"
     ]
    }
   ],
   "source": [
    "# using a for loop\n",
    "\n",
    "product_list = []\n",
    "for i in range(10):\n",
    "    for j in range(10,20):\n",
    "        product_list.append(i*j)\n",
    "\n",
    "print(product_list)"
   ]
  },
  {
   "cell_type": "code",
   "execution_count": 33,
   "metadata": {},
   "outputs": [
    {
     "name": "stdout",
     "output_type": "stream",
     "text": [
      "[0, 0, 0, 0, 0, 0, 0, 0, 0, 0, 10, 11, 12, 13, 14, 15, 16, 17, 18, 19, 20, 22, 24, 26, 28, 30, 32, 34, 36, 38, 30, 33, 36, 39, 42, 45, 48, 51, 54, 57, 40, 44, 48, 52, 56, 60, 64, 68, 72, 76, 50, 55, 60, 65, 70, 75, 80, 85, 90, 95, 60, 66, 72, 78, 84, 90, 96, 102, 108, 114, 70, 77, 84, 91, 98, 105, 112, 119, 126, 133, 80, 88, 96, 104, 112, 120, 128, 136, 144, 152, 90, 99, 108, 117, 126, 135, 144, 153, 162, 171]\n"
     ]
    }
   ],
   "source": [
    "# using list comprehension\n",
    "product_list = [ i*j for i in range(10) for j in range(10,20) ]\n",
    "\n",
    "print(product_list)"
   ]
  },
  {
   "cell_type": "code",
   "execution_count": 1,
   "metadata": {
    "collapsed": true
   },
   "outputs": [],
   "source": [
    "students_data ={1:['Shivam Bansal',24],2:['Udit Bansal',23],3:['john']}"
   ]
  },
  {
   "cell_type": "code",
   "execution_count": 2,
   "metadata": {},
   "outputs": [
    {
     "name": "stdout",
     "output_type": "stream",
     "text": [
      "{2: 'Udit Bansal'}\n"
     ]
    }
   ],
   "source": [
    "names_dict={}\n",
    "\n",
    "#iterate over each key, val pair\n",
    "for roll_num, details in students_data.items():\n",
    "    if roll_num%2 ==0:\n",
    "        names_dict[roll_num]=details[0]\n",
    "\n",
    "print(names_dict)\n",
    "    "
   ]
  },
  {
   "cell_type": "code",
   "execution_count": 20,
   "metadata": {},
   "outputs": [
    {
     "name": "stdout",
     "output_type": "stream",
     "text": [
      "{1: 1, 2: 4, 3: 9, 4: 16, 5: 25, 6: 36, 7: 49, 8: 64, 9: 81}\n"
     ]
    }
   ],
   "source": [
    "n=9\n",
    "\n",
    "dictionary={}\n",
    "\n",
    "for i in range(1,n+1):\n",
    "    dictionary[i]=i**2\n",
    "\n",
    "print(dictionary)"
   ]
  },
  {
   "cell_type": "code",
   "execution_count": 21,
   "metadata": {},
   "outputs": [
    {
     "name": "stdout",
     "output_type": "stream",
     "text": [
      "['ad', 'ae', 'af', 'bd', 'be', 'bf', 'cd', 'ce', 'cf']\n"
     ]
    }
   ],
   "source": [
    "print([i+j for i in \"abc\" for j in \"def\"])"
   ]
  },
  {
   "cell_type": "code",
   "execution_count": 22,
   "metadata": {},
   "outputs": [
    {
     "name": "stdout",
     "output_type": "stream",
     "text": [
      "{'A': 'aaa', 'C': 'ccc', 'B': 'bbb', 'D': 'ddd'}\n"
     ]
    }
   ],
   "source": [
    "d = {x.upper(): x*3 for x in 'acbd'}\n",
    "print(d)"
   ]
  },
  {
   "cell_type": "code",
   "execution_count": 25,
   "metadata": {},
   "outputs": [
    {
     "name": "stdout",
     "output_type": "stream",
     "text": [
      "{1: 1, 2: 4, 3: 9, 4: 16, 5: 25, 6: 36, 7: 49, 8: 64, 9: 81}\n"
     ]
    }
   ],
   "source": [
    "d = {i: i**2 for i in range(1,10)}\n",
    "print(d)"
   ]
  }
 ],
 "metadata": {
  "kernelspec": {
   "display_name": "Python 3",
   "language": "python",
   "name": "python3"
  },
  "language_info": {
   "codemirror_mode": {
    "name": "ipython",
    "version": 3
   },
   "file_extension": ".py",
   "mimetype": "text/x-python",
   "name": "python",
   "nbconvert_exporter": "python",
   "pygments_lexer": "ipython3",
   "version": "3.6.1"
  }
 },
 "nbformat": 4,
 "nbformat_minor": 2
}

{
 "cells": [
  {
   "cell_type": "markdown",
   "metadata": {},
   "source": [
    "# Python for Data Science"
   ]
  },
  {
   "cell_type": "markdown",
   "metadata": {},
   "source": [
    "#Introduction to NumPy\n",
    "\n",
    "#NumPy consists of a powerful data structure called multidimensional arrays. \n",
    "#Pandas is another powerful Python library that provides fast and easy data analysis platform. \n",
    "\n",
    "Understand advantages of vectorised code using Numpy (over standard Python ways)\n",
    "Create NumPy arrays\n",
    "Convert lists and tuples to NumPy arrays\n",
    "Create (initialise) arrays\n",
    "Inspect the structure and content of arrays\n",
    "Subset, slice, index and iterate through arrays\n",
    "Compare computation times in NumPy and standard Python lists"
   ]
  },
  {
   "cell_type": "markdown",
   "metadata": {},
   "source": [
    "The most basic object in NumPy is the ndarray, or simply an array which is an n-dimensional, homogeneous array. By homogenous, we mean that all the elements in a NumPy array have to be of the same data type, which is commonly numeric (float or integer).\n"
   ]
  },
  {
   "cell_type": "code",
   "execution_count": 2,
   "metadata": {
    "collapsed": true
   },
   "outputs": [],
   "source": [
    "import numpy as np"
   ]
  },
  {
   "cell_type": "code",
   "execution_count": 5,
   "metadata": {},
   "outputs": [
    {
     "name": "stdout",
     "output_type": "stream",
     "text": [
      "[2 3 4 5 6 7 9]\n",
      "<class 'numpy.ndarray'>\n"
     ]
    }
   ],
   "source": [
    "array_1d =np.array([2,3,4,5,6,7,9])\n",
    "print(array_1d)\n",
    "print(type(array_1d))"
   ]
  },
  {
   "cell_type": "code",
   "execution_count": 8,
   "metadata": {},
   "outputs": [
    {
     "name": "stdout",
     "output_type": "stream",
     "text": [
      "[[2 3 4]\n",
      " [5 6 7]]\n"
     ]
    }
   ],
   "source": [
    "#2D array\n",
    "array_2d=np.array([[2,3,4],[5,6,7]])\n",
    "print(array_2d)"
   ]
  },
  {
   "cell_type": "code",
   "execution_count": 9,
   "metadata": {},
   "outputs": [
    {
     "name": "stdout",
     "output_type": "stream",
     "text": [
      "[12, 30, 7, 35]\n"
     ]
    }
   ],
   "source": [
    "list_1 = [3,6,7,5]\n",
    "list_2 = [4,5,1,7]\n",
    "\n",
    "#the list way to do it: map a function to the two lists\n",
    "product_list = list(map(lambda x, y: x*y, list_1, list_2))\n",
    "print(product_list)"
   ]
  },
  {
   "cell_type": "code",
   "execution_count": 10,
   "metadata": {},
   "outputs": [
    {
     "name": "stdout",
     "output_type": "stream",
     "text": [
      "[12 30  7 35]\n",
      "<class 'numpy.ndarray'>\n"
     ]
    }
   ],
   "source": [
    "# the numpy array way to do it: simply multiply the two arrays\n",
    "array_1 = np.array(list_1)\n",
    "array_2 = np.array(list_2)\n",
    "\n",
    "array_3 = array_1*array_2\n",
    "print(array_3)\n",
    "print(type(array_3))"
   ]
  },
  {
   "cell_type": "code",
   "execution_count": 11,
   "metadata": {},
   "outputs": [
    {
     "name": "stdout",
     "output_type": "stream",
     "text": [
      "[ 7 11  8 12]\n"
     ]
    }
   ],
   "source": [
    "array_3 = array_1 + array_2\n",
    "print(array_3)"
   ]
  },
  {
   "cell_type": "code",
   "execution_count": 12,
   "metadata": {},
   "outputs": [
    {
     "name": "stdout",
     "output_type": "stream",
     "text": [
      "[9, 36, 49, 25]\n",
      "[ 9 36 49 25]\n"
     ]
    }
   ],
   "source": [
    "#square a list\n",
    "list_squared = [i**2 for i in list_1]\n",
    "\n",
    "#square a numpy array\n",
    "array_squared = array_1**2\n",
    "\n",
    "print(list_squared)\n",
    "print(array_squared)"
   ]
  },
  {
   "cell_type": "code",
   "execution_count": 13,
   "metadata": {},
   "outputs": [
    {
     "name": "stdout",
     "output_type": "stream",
     "text": [
      "[14, 24, 36, 30]\n"
     ]
    }
   ],
   "source": [
    "input_list = [[2,3,4,5],[7,8,9,6]]\n",
    "list_1 = input_list[0]\n",
    "list_2 = input_list[1]\n",
    "\n",
    "import numpy as np\n",
    "array_1 = np.array(list_1)\n",
    "array_2 = np.array(list_2)\n",
    "array_3 = array_1*array_2\n",
    "\n",
    "print(list(array_3))"
   ]
  },
  {
   "cell_type": "code",
   "execution_count": 14,
   "metadata": {},
   "outputs": [
    {
     "name": "stdout",
     "output_type": "stream",
     "text": [
      "[[1 2 3]\n",
      " [4 5 6]\n",
      " [7 8 9]]\n"
     ]
    }
   ],
   "source": [
    "input_list = [[1,2,3],[4,5,6],[7,8,9]]\n",
    "list_1 = input_list[0]\n",
    "list_2 = input_list[1]\n",
    "list_3 = input_list[2]\n",
    "\n",
    "import numpy as np\n",
    "array_1 = np.array([list_1,list_2,list_3])\n",
    "\n",
    "print(array_1)"
   ]
  },
  {
   "cell_type": "markdown",
   "metadata": {},
   "source": [
    "# Creating NumPy Arrays"
   ]
  },
  {
   "cell_type": "code",
   "execution_count": 16,
   "metadata": {},
   "outputs": [
    {
     "ename": "TypeError",
     "evalue": "ones() missing 1 required positional argument: 'shape'",
     "output_type": "error",
     "traceback": [
      "\u001b[1;31m---------------------------------------------------------------------------\u001b[0m",
      "\u001b[1;31mTypeError\u001b[0m                                 Traceback (most recent call last)",
      "\u001b[1;32m<ipython-input-16-f479476d9ed5>\u001b[0m in \u001b[0;36m<module>\u001b[1;34m()\u001b[0m\n\u001b[1;32m----> 1\u001b[1;33m \u001b[0mhelp\u001b[0m\u001b[1;33m(\u001b[0m\u001b[0mnp\u001b[0m\u001b[1;33m.\u001b[0m\u001b[0mones\u001b[0m\u001b[1;33m(\u001b[0m\u001b[1;33m)\u001b[0m\u001b[1;33m)\u001b[0m\u001b[1;33m\u001b[0m\u001b[0m\n\u001b[0m",
      "\u001b[1;31mTypeError\u001b[0m: ones() missing 1 required positional argument: 'shape'"
     ]
    }
   ],
   "source": [
    "help(np.ones())"
   ]
  },
  {
   "cell_type": "code",
   "execution_count": 17,
   "metadata": {},
   "outputs": [
    {
     "name": "stdout",
     "output_type": "stream",
     "text": [
      "[2 5 6 7]\n",
      "[4 5 8 9]\n"
     ]
    }
   ],
   "source": [
    "array_from_list = np.array([2,5,6,7])\n",
    "array_from_tuple = np.array((4,5,8,9))\n",
    "\n",
    "print(array_from_list)\n",
    "print(array_from_tuple)"
   ]
  },
  {
   "cell_type": "markdown",
   "metadata": {},
   "source": [
    "The following ways are commonly used:\n",
    "\n",
    "np.ones(): Create an array of 1s\n",
    "np.zeros(): Create an array of 0s\n",
    "np.random.random(): Create an array of random numbers between 0 and 1\n",
    "np.arange(): Create an array with increments of a fixed step size\n",
    "np.linspace(): Create an array of fixed length"
   ]
  },
  {
   "cell_type": "code",
   "execution_count": 18,
   "metadata": {},
   "outputs": [
    {
     "data": {
      "text/plain": [
       "array([[ 1.,  1.,  1.],\n",
       "       [ 1.,  1.,  1.],\n",
       "       [ 1.,  1.,  1.],\n",
       "       [ 1.,  1.,  1.],\n",
       "       [ 1.,  1.,  1.]])"
      ]
     },
     "execution_count": 18,
     "metadata": {},
     "output_type": "execute_result"
    }
   ],
   "source": [
    "#creating a 5 x 3 array of onces\n",
    "np.ones((5,3))"
   ]
  },
  {
   "cell_type": "code",
   "execution_count": 19,
   "metadata": {},
   "outputs": [
    {
     "data": {
      "text/plain": [
       "array([[1, 1, 1],\n",
       "       [1, 1, 1],\n",
       "       [1, 1, 1],\n",
       "       [1, 1, 1],\n",
       "       [1, 1, 1]])"
      ]
     },
     "execution_count": 19,
     "metadata": {},
     "output_type": "execute_result"
    }
   ],
   "source": [
    "#notice that, by defalt numpy create datatype float64\n",
    "#can provide dtype explicitly\n",
    "\n",
    "np.ones((5,3), dtype = np.int)"
   ]
  },
  {
   "cell_type": "code",
   "execution_count": 20,
   "metadata": {},
   "outputs": [
    {
     "data": {
      "text/plain": [
       "array([0, 0, 0, 0])"
      ]
     },
     "execution_count": 20,
     "metadata": {},
     "output_type": "execute_result"
    }
   ],
   "source": [
    "#creating array of zeros\n",
    "\n",
    "np.zeros(4, dtype = np.int)"
   ]
  },
  {
   "cell_type": "code",
   "execution_count": 21,
   "metadata": {},
   "outputs": [
    {
     "data": {
      "text/plain": [
       "array([[ 0.09421022,  0.03890004],\n",
       "       [ 0.91332668,  0.05004087],\n",
       "       [ 0.06786937,  0.41070539],\n",
       "       [ 0.30617034,  0.99887614]])"
      ]
     },
     "execution_count": 21,
     "metadata": {},
     "output_type": "execute_result"
    }
   ],
   "source": [
    "#array of random numbers\n",
    "np.random.random([4,2])"
   ]
  },
  {
   "cell_type": "code",
   "execution_count": 22,
   "metadata": {},
   "outputs": [
    {
     "name": "stdout",
     "output_type": "stream",
     "text": [
      "[10 15 20 25 30 35 40 45 50 55 60 65 70 75 80 85 90 95]\n"
     ]
    }
   ],
   "source": [
    "numbers = np.arange(10, 100, 5)\n",
    "print(numbers)"
   ]
  },
  {
   "cell_type": "code",
   "execution_count": 23,
   "metadata": {},
   "outputs": [
    {
     "data": {
      "text/plain": [
       "array([ 15.   ,  15.125,  15.25 ,  15.375,  15.5  ,  15.625,  15.75 ,\n",
       "        15.875,  16.   ,  16.125,  16.25 ,  16.375,  16.5  ,  16.625,\n",
       "        16.75 ,  16.875,  17.   ,  17.125,  17.25 ,  17.375,  17.5  ,\n",
       "        17.625,  17.75 ,  17.875,  18.   ])"
      ]
     },
     "execution_count": 23,
     "metadata": {},
     "output_type": "execute_result"
    }
   ],
   "source": [
    "#sometimes, you know the length of the array, not the step size\n",
    "np.linspace(15, 18, 25)\n",
    "#25 intervel"
   ]
  },
  {
   "cell_type": "code",
   "execution_count": 26,
   "metadata": {},
   "outputs": [
    {
     "data": {
      "text/plain": [
       "array([4, 4, 4, 4, 4, 4, 4, 4])"
      ]
     },
     "execution_count": 26,
     "metadata": {},
     "output_type": "execute_result"
    }
   ],
   "source": [
    "# Create a constant array of any number ‘n’\n",
    "np.full(8,4)"
   ]
  },
  {
   "cell_type": "code",
   "execution_count": 27,
   "metadata": {},
   "outputs": [
    {
     "data": {
      "text/plain": [
       "array([4, 4, 4, 4, 4, 4])"
      ]
     },
     "execution_count": 27,
     "metadata": {},
     "output_type": "execute_result"
    }
   ],
   "source": [
    "#np.tile(): Create a new array — by repeating an existing array — for a particular number of times\n",
    "\n",
    "np.tile(4,6)"
   ]
  },
  {
   "cell_type": "code",
   "execution_count": 34,
   "metadata": {},
   "outputs": [
    {
     "data": {
      "text/plain": [
       "array([[ 1.,  0.,  0.],\n",
       "       [ 0.,  1.,  0.],\n",
       "       [ 0.,  0.,  1.]])"
      ]
     },
     "execution_count": 34,
     "metadata": {},
     "output_type": "execute_result"
    }
   ],
   "source": [
    "#np.eye(): Create an identity matrix of any dimension\n",
    "\n",
    "np.eye(3,3,0)"
   ]
  },
  {
   "cell_type": "code",
   "execution_count": 36,
   "metadata": {},
   "outputs": [
    {
     "data": {
      "text/plain": [
       "array([3, 4, 4, 0, 0, 1, 4, 4, 1, 4])"
      ]
     },
     "execution_count": 36,
     "metadata": {},
     "output_type": "execute_result"
    }
   ],
   "source": [
    "#np.random.randint(): Create a random array of integers within a particular range\n",
    "\n",
    "np.random.randint(0,5,10)"
   ]
  },
  {
   "cell_type": "markdown",
   "metadata": {},
   "source": [
    "Create NumPy Array\n",
    "Description\n",
    "Given an integer 'x', create an array of size m*n having all integer values equal to 'x'. \n",
    "Hint: Use dtype to specify integer.\n",
    "\n",
    "Format:\n",
    "Input: \n",
    "Line 1: A single integer 'x'\n",
    "Line 2: A single integer 'm' indicating the number of rows\n",
    "Line 3: A single integer 'n' indicating the number of columns\n",
    "Output: An array of size 'm*n' having all the values as 'x'"
   ]
  },
  {
   "cell_type": "code",
   "execution_count": 55,
   "metadata": {},
   "outputs": [
    {
     "name": "stdout",
     "output_type": "stream",
     "text": [
      "[[1 1 1]\n",
      " [1 1 1]\n",
      " [1 1 1]]\n"
     ]
    }
   ],
   "source": [
    "int_x = 1\n",
    "rows_m = 3\n",
    "cols_n = 3\n",
    "\n",
    "import numpy as np\n",
    "array_x = np.ones((rows_m,cols_n), dtype = np.int)*int_x\n",
    "\n",
    "print(array_x)"
   ]
  },
  {
   "cell_type": "markdown",
   "metadata": {},
   "source": [
    "Array 'arange' Function\n",
    "Description\n",
    "Create an array of first 10 multiples of 5 using the 'arange' function."
   ]
  },
  {
   "cell_type": "code",
   "execution_count": 56,
   "metadata": {},
   "outputs": [
    {
     "data": {
      "text/plain": [
       "array([ 5, 10, 15, 20, 25, 30, 35, 40, 45])"
      ]
     },
     "execution_count": 56,
     "metadata": {},
     "output_type": "execute_result"
    }
   ],
   "source": [
    "np.arange(5,50,5)"
   ]
  },
  {
   "cell_type": "markdown",
   "metadata": {},
   "source": [
    "Checkerboard Matrix\n",
    "Description\n",
    "Given an even integer ‘n’, create an ‘n*n’ checkerboard matrix with the values 0 and 1, using the tile function. \n",
    " \n",
    "Format:\n",
    "Input: A single even integer 'n'.\n",
    "Output: An 'n*n' NumPy array in checkerboard format.\n",
    "\n",
    "Example: \n",
    "Input 1: \n",
    "2 \n",
    "Output 1: \n",
    "[[0 1] \n",
    " [1 0]] \n",
    "Input 2: \n",
    "4 \n",
    "Output 2: \n",
    "[[0 1 0 1] \n",
    " [1 0 1 0]\n",
    " [0 1 0 1]\n",
    " [1 0 1 0]]\n"
   ]
  },
  {
   "cell_type": "code",
   "execution_count": 87,
   "metadata": {},
   "outputs": [
    {
     "data": {
      "text/plain": [
       "(0, 1, 0, 1, 0, 1, 0, 1, 0, 1, 0, 1, 0, 1)"
      ]
     },
     "execution_count": 87,
     "metadata": {},
     "output_type": "execute_result"
    }
   ],
   "source": [
    "inputv = 4\n",
    "\n",
    "lst = tuple(np.arange(2,inputv*4,1)%2)\n",
    "lst\n",
    "#print(np.asarray([lst]))\n",
    "\n"
   ]
  },
  {
   "cell_type": "markdown",
   "metadata": {},
   "source": [
    "# Structure and Content of Arrays"
   ]
  },
  {
   "cell_type": "markdown",
   "metadata": {},
   "source": [
    "It is helpful to inspect the structure of NumPy arrays, especially while working with large arrays. Some attributes of NumPy arrays are:\n",
    "\n",
    "shape: Shape of array (n x m)\n",
    "dtype: data type (int, float etc.)\n",
    "ndim: Number of dimensions (or axes)\n",
    "itemsize: Memory used by each array element in bytes"
   ]
  },
  {
   "cell_type": "code",
   "execution_count": 91,
   "metadata": {},
   "outputs": [
    {
     "name": "stdout",
     "output_type": "stream",
     "text": [
      "[ 0.51415009  0.55394796  0.08875432  0.39752032  0.40072938  0.86074053\n",
      "  0.76608339  0.8747973   0.90082153  0.04209759  0.46188342  0.70911722\n",
      "  0.01228701  0.2671012   0.90476062  0.28285167  0.08178716  0.2566357\n",
      "  0.32511433  0.6955244   0.03455081  0.81726813  0.92373802  0.55688605\n",
      "  0.26011434  0.45475665  0.19874811  0.21717154  0.24332039  0.27233649\n",
      "  0.61983322  0.91976147  0.37597083  0.91521041  0.2581207   0.35760159\n",
      "  0.56271193  0.5842697   0.99250844  0.27231277  0.91742939  0.67990233\n",
      "  0.031101    0.75953419  0.97957915  0.63272446  0.92279382  0.47136613\n",
      "  0.39022986  0.05897726  0.69299221  0.4449234   0.75401668  0.95939229\n",
      "  0.06442861  0.76146959  0.90644898  0.05545098  0.60515727  0.57682134\n",
      "  0.66101018  0.36848358  0.71513657  0.28883871  0.58620806  0.06186832\n",
      "  0.73485674  0.55701047  0.19033896  0.35409704  0.67036766  0.89057044\n",
      "  0.7794677   0.34683758  0.27712581  0.53021212  0.27660473  0.94085794\n",
      "  0.87133925  0.49607393  0.00354431  0.37986625  0.48216962  0.54988725\n",
      "  0.88499746  0.37361625  0.49498212  0.2186867   0.27614062  0.64047867\n",
      "  0.63078737  0.43655982  0.21048965  0.88860951  0.32249103  0.33895795\n",
      "  0.17972996  0.54183124  0.32667622  0.94561742  0.03870382  0.52722788\n",
      "  0.28966147  0.63926103  0.96042333  0.84340918  0.82262271  0.86022498\n",
      "  0.17906015  0.97796108  0.13672123  0.54183356  0.73727941  0.36895341\n",
      "  0.40240938  0.85356151  0.27084781  0.03398493  0.68404831  0.05261745\n",
      "  0.10123003  0.364449    0.11728105  0.63280697  0.40321071  0.17472932\n",
      "  0.84349152  0.89537911  0.45239879  0.82857146  0.36667939  0.90630306\n",
      "  0.73933564  0.21311411  0.98985017  0.09338929  0.62964102  0.74294115\n",
      "  0.27012178  0.7290977   0.10624872  0.7397429   0.02278691  0.27579223\n",
      "  0.33069913  0.4399052   0.36151024  0.47169088  0.33069102  0.25532676\n",
      "  0.17211924  0.35109077  0.86948169  0.01054721  0.31945882  0.80891318\n",
      "  0.05977046  0.02950115  0.7661363   0.76678589  0.91026754  0.29844548\n",
      "  0.39529558  0.38404415  0.33194959  0.65613958  0.10057039  0.10738158\n",
      "  0.1881321   0.45172712  0.20803203  0.69415498  0.71638518  0.87255125\n",
      "  0.11142025  0.05220286  0.51029003  0.62222024  0.32018999  0.73755343\n",
      "  0.14285355  0.63167492  0.88989112  0.09410701  0.11796016  0.4368047\n",
      "  0.41358022  0.26497157  0.17844609  0.46294961  0.41152933  0.11192386\n",
      "  0.06861801  0.96955605  0.55937478  0.64887779  0.0585301   0.45912491\n",
      "  0.62525473  0.47858513  0.0465079   0.80880875  0.79122229  0.63215645\n",
      "  0.96626708  0.30037173  0.49299749  0.37994938  0.03603766  0.30666247\n",
      "  0.70965329  0.84972067  0.07774642  0.6164434   0.1668402   0.24899625\n",
      "  0.18477708  0.80095169  0.17400211  0.44805672  0.63798923  0.12282031\n",
      "  0.10124572  0.98983773  0.52567357  0.34403206  0.89555164  0.81800768\n",
      "  0.31632341  0.61380402  0.52844685  0.44575366  0.75962781  0.74583994\n",
      "  0.44106566  0.04832985  0.67468099  0.39097391  0.92203186  0.18710007\n",
      "  0.96567896  0.67327872  0.27518059  0.66236825  0.96360371  0.49556603\n",
      "  0.1558389   0.07639518  0.91068731  0.97022229  0.13035173  0.75241933\n",
      "  0.31277755  0.80278116  0.89997991  0.38499181  0.62812294  0.1464217\n",
      "  0.10370721  0.69819965  0.96335224  0.6084281   0.17364033  0.28409834\n",
      "  0.46702864  0.12735393  0.33885341  0.99354995  0.84891537  0.86117298\n",
      "  0.99388287  0.47254863  0.06899732  0.39965216  0.90456218  0.96419644\n",
      "  0.62212819  0.36725348  0.54359119  0.1675674   0.70243522  0.12010627\n",
      "  0.33673352  0.98669322  0.00920509  0.9101271   0.33699508  0.33167738\n",
      "  0.10144972  0.46085301  0.57564601  0.93430244  0.33365739  0.67301264\n",
      "  0.50391878  0.39218374  0.41512544  0.53177298  0.9481545   0.74797533]\n"
     ]
    }
   ],
   "source": [
    "#initialising a random 1000 * 300 array\n",
    "\n",
    "rand_array = np.random.random((1000 , 300))\n",
    "\n",
    "#print the first row\n",
    "print(rand_array[1, ])"
   ]
  },
  {
   "cell_type": "code",
   "execution_count": 97,
   "metadata": {},
   "outputs": [
    {
     "name": "stdout",
     "output_type": "stream",
     "text": [
      "[[[ 0  1  2  3]\n",
      "  [ 4  5  6  7]\n",
      "  [ 8  9 10 11]]\n",
      "\n",
      " [[12 13 14 15]\n",
      "  [16 17 18 19]\n",
      "  [20 21 22 23]]]\n"
     ]
    }
   ],
   "source": [
    "#creating a 3D array\n",
    "#reshape() simply reshapes a 1-D array\n",
    "array_3d = np.arange(24).reshape(2, 3, 4)\n",
    "print(array_3d)"
   ]
  },
  {
   "cell_type": "code",
   "execution_count": 109,
   "metadata": {},
   "outputs": [
    {
     "name": "stdout",
     "output_type": "stream",
     "text": [
      "[[10 11 12 13]\n",
      " [15 12 13 14]]\n",
      "(2, 4)\n",
      "2\n"
     ]
    }
   ],
   "source": [
    "input_list = [[10,11,12,13],[15,12,13,14]]\n",
    "\n",
    "list_1 = input_list[0]\n",
    "list_2 = input_list[1]\n",
    "\n",
    "import numpy as np\n",
    "\n",
    "array_1 = np.array([list_1,list_2])\n",
    "print(array_1)\n",
    "print(np.shape(array_1))\n",
    "print(np.ndim(array_1))\n",
    "#print(#Type the code for shape here)\n",
    "#print(#Type the code for dimension here)"
   ]
  },
  {
   "cell_type": "markdown",
   "metadata": {},
   "source": [
    "# Subset, Slice, Index and Iterate through Arrays"
   ]
  },
  {
   "cell_type": "code",
   "execution_count": 111,
   "metadata": {},
   "outputs": [
    {
     "name": "stdout",
     "output_type": "stream",
     "text": [
      "[0 1 2 3 4 5 6 7 8 9]\n"
     ]
    }
   ],
   "source": [
    "#For one-dimensional arrays, indexing slicing\n",
    "array_1d = np.arange(10)\n",
    "print(array_1d)"
   ]
  },
  {
   "cell_type": "code",
   "execution_count": 118,
   "metadata": {},
   "outputs": [
    {
     "name": "stdout",
     "output_type": "stream",
     "text": [
      "2\n",
      "[2 5 6]\n",
      "[2 3 4 5 6 7 8 9]\n",
      "[2 3 4 5 6]\n",
      "[0 2 4 6 8]\n"
     ]
    }
   ],
   "source": [
    "#third element\n",
    "print(array_1d[2])\n",
    "\n",
    "#specific elements\n",
    "#notice that array[2, 5, 6] will thros an error\n",
    "\n",
    "print(array_1d[[2, 5, 6]])\n",
    "\n",
    "#slicing third element onwards\n",
    "print(array_1d[2:])\n",
    "\n",
    "#slice third to seventh element\n",
    "print(array_1d[2:7])\n",
    "\n",
    "#subset starting 0 at increment of 2\n",
    "print(array_1d[0::2])"
   ]
  },
  {
   "cell_type": "code",
   "execution_count": 122,
   "metadata": {},
   "outputs": [
    {
     "name": "stdout",
     "output_type": "stream",
     "text": [
      "[1, 2, 3]\n"
     ]
    }
   ],
   "source": [
    "array_1 = [1, 2, 3, 5, 4, 6, 7, 8, 5, 3, 2]\n",
    "\n",
    "print(array_1[:3])"
   ]
  },
  {
   "cell_type": "code",
   "execution_count": 123,
   "metadata": {},
   "outputs": [
    {
     "name": "stdout",
     "output_type": "stream",
     "text": [
      "[1, 3, 4, 7, 5, 2]\n"
     ]
    }
   ],
   "source": [
    "print(array_1[0::2])"
   ]
  },
  {
   "cell_type": "markdown",
   "metadata": {},
   "source": [
    "# Multidimensional Arrays"
   ]
  },
  {
   "cell_type": "markdown",
   "metadata": {},
   "source": [
    "Multidimensional arrays are indexed using as many indices as the number of dimensions or axes. For instance, to index a 2-D array, you need two indices - array[x, y]"
   ]
  },
  {
   "cell_type": "code",
   "execution_count": 127,
   "metadata": {},
   "outputs": [
    {
     "name": "stdout",
     "output_type": "stream",
     "text": [
      "[[ 0  1  2  3]\n",
      " [ 4  5  6  7]\n",
      " [ 8  9 10 11]]\n",
      "[[12 13 14 15]\n",
      " [16 17 18 19]\n",
      " [20 21 22 23]]\n"
     ]
    }
   ],
   "source": [
    "for row in array_2d:\n",
    "    print(row)"
   ]
  },
  {
   "cell_type": "code",
   "execution_count": 128,
   "metadata": {},
   "outputs": [
    {
     "name": "stdout",
     "output_type": "stream",
     "text": [
      "[[[ 0  1  2  3]\n",
      "  [ 4  5  6  7]\n",
      "  [ 8  9 10 11]]\n",
      "\n",
      " [[12 13 14 15]\n",
      "  [16 17 18 19]\n",
      "  [20 21 22 23]]]\n"
     ]
    }
   ],
   "source": [
    "#3D array\n",
    "array_3d = np.arange(24).reshape(2,3,4)\n",
    "print(array_3d)"
   ]
  },
  {
   "cell_type": "code",
   "execution_count": 129,
   "metadata": {},
   "outputs": [
    {
     "name": "stdout",
     "output_type": "stream",
     "text": [
      "[[ 0  1  2  3]\n",
      " [ 4  5  6  7]\n",
      " [ 8  9 10 11]]\n",
      "[[12 13 14 15]\n",
      " [16 17 18 19]\n",
      " [20 21 22 23]]\n"
     ]
    }
   ],
   "source": [
    "for row in array_3d:\n",
    "    print(row)"
   ]
  },
  {
   "cell_type": "markdown",
   "metadata": {},
   "source": [
    "2D Array\n",
    "Description\n",
    "From a 2D array extract all the rows of the 2 column.\n",
    "Hint: 2 column will have index value as 1."
   ]
  },
  {
   "cell_type": "code",
   "execution_count": 182,
   "metadata": {},
   "outputs": [
    {
     "data": {
      "text/plain": [
       "array([[5, 6, 7],\n",
       "       [7, 6, 5],\n",
       "       [0, 8, 7]])"
      ]
     },
     "execution_count": 182,
     "metadata": {},
     "output_type": "execute_result"
    }
   ],
   "source": [
    "input_list = [[5,6,7],[7,6,5],[0,8,7]]\n",
    "import numpy as np\n",
    "array_2d =np.array(input_list) \n",
    "\n",
    "array_2d"
   ]
  },
  {
   "cell_type": "code",
   "execution_count": 150,
   "metadata": {},
   "outputs": [
    {
     "name": "stdout",
     "output_type": "stream",
     "text": [
      "[6 6 8]\n"
     ]
    }
   ],
   "source": [
    "lst = []\n",
    "\n",
    "for x in array_2d:\n",
    "    lst.append(x[1])\n",
    "\n",
    "list_str = str(lst).replace(',', '')\n",
    "\n",
    "print(list_str)"
   ]
  },
  {
   "cell_type": "code",
   "execution_count": 183,
   "metadata": {},
   "outputs": [
    {
     "name": "stdout",
     "output_type": "stream",
     "text": [
      "[6 6 8]\n"
     ]
    }
   ],
   "source": [
    "import numpy as np\n",
    "array_2d =np.array(input_list) \n",
    "\n",
    "print(array_2d[ : ,1])"
   ]
  },
  {
   "cell_type": "markdown",
   "metadata": {},
   "source": [
    "Border Rows and Columns\n",
    "Description\n",
    "Extract all the border rows and columns from a 2-D array.\n",
    "\n",
    "Format:\n",
    "Input: A 2-D Python list\n",
    "Output: Four NumPy arrays - First column of the input array, first row of the input array, last column of the input array, last row of the input array respectively.\n",
    "\n",
    "Example:\n",
    "Input 1:\n",
    "[[11 12 13 14]\n",
    " [21 22 23 24]\n",
    " [31 32 33 34]]\n",
    "Output 1:\n",
    "[11 21 31]\n",
    "[11 12 13 14]\n",
    "[14 24 34]\n",
    "[31 32 33 34]"
   ]
  },
  {
   "cell_type": "code",
   "execution_count": 181,
   "metadata": {},
   "outputs": [
    {
     "name": "stdout",
     "output_type": "stream",
     "text": [
      "[11 21 31]\n",
      "[11 12 13 14]\n",
      "[14 24 34]\n",
      "[31 32 33 34]\n"
     ]
    }
   ],
   "source": [
    "input_list = [[11, 12, 13, 14], [21, 22, 23, 24], [31, 32, 33, 34]]\n",
    "\n",
    "import numpy as np\n",
    "\n",
    "# Convert the input list to a NumPy array\n",
    "array_2d =np.array(input_list)\n",
    "\n",
    "lst_1 = []\n",
    "lst_3 = []\n",
    "\n",
    "for x in array_2d:\n",
    "    lst_1.append(x[0])\n",
    "    lst_3.append(x[3])\n",
    "\n",
    "# Extract the first column, first row, last column and last row respectively using\n",
    "# appropriate indexing\n",
    "col_first = str(lst_1).replace(',', '')\n",
    "row_first = array_2d[0:1]\n",
    "row_first = row_first.ravel()\n",
    "col_last = str(lst_3).replace(',', '')\n",
    "row_last = array_2d[2:3]\n",
    "row_last = row_last.ravel()\n",
    "\n",
    "print(col_first)\n",
    "print(row_first)\n",
    "print(col_last)\n",
    "print(row_last)"
   ]
  },
  {
   "cell_type": "code",
   "execution_count": null,
   "metadata": {
    "collapsed": true
   },
   "outputs": [],
   "source": [
    "#solution\n",
    "\n",
    "import numpy as np\n",
    "\n",
    "# Convert the input list to a NumPy array\n",
    "array_2d =np.array(input_list)\n",
    "\n",
    "# Extract the number of rows and columns of the array\n",
    "rows = len(array_2d[:, 0])\n",
    "cols = len(array_2d[0, :])\n",
    "\n",
    "# Extract the first column, first row, last column and last row respectively using\n",
    "# appropriate indexing\n",
    "col_1 = array_2d[:, 0]\n",
    "row_1 = array_2d[0, :]\n",
    "col_last = array_2d[:, cols-1]\n",
    "row_last = array_2d[rows-1, :]\n",
    "\n",
    "print(col_1)\n",
    "print(row_1)\n",
    "print(col_last)\n",
    "print(row_last)\n"
   ]
  },
  {
   "cell_type": "code",
   "execution_count": null,
   "metadata": {
    "collapsed": true
   },
   "outputs": [],
   "source": []
  },
  {
   "cell_type": "code",
   "execution_count": null,
   "metadata": {
    "collapsed": true
   },
   "outputs": [],
   "source": []
  }
 ],
 "metadata": {
  "kernelspec": {
   "display_name": "Python 3",
   "language": "python",
   "name": "python3"
  },
  "language_info": {
   "codemirror_mode": {
    "name": "ipython",
    "version": 3
   },
   "file_extension": ".py",
   "mimetype": "text/x-python",
   "name": "python",
   "nbconvert_exporter": "python",
   "pygments_lexer": "ipython3",
   "version": "3.6.1"
  }
 },
 "nbformat": 4,
 "nbformat_minor": 2
}
